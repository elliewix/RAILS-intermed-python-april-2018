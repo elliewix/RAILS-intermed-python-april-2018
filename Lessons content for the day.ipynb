{
 "cells": [
  {
   "cell_type": "markdown",
   "metadata": {},
   "source": [
    "This is my lesson notes for the workshop.  So I'll be adding mostly code examples with some short narrative to keep me on track, but this isn't being written to be a solo document."
   ]
  },
  {
   "cell_type": "markdown",
   "metadata": {},
   "source": [
    "# Brief Review of Python Syntax (20 min)\n",
    "\n"
   ]
  },
  {
   "cell_type": "code",
   "execution_count": null,
   "metadata": {
    "collapsed": true
   },
   "outputs": [],
   "source": []
  },
  {
   "cell_type": "code",
   "execution_count": null,
   "metadata": {
    "collapsed": true
   },
   "outputs": [],
   "source": []
  },
  {
   "cell_type": "code",
   "execution_count": null,
   "metadata": {
    "collapsed": true
   },
   "outputs": [],
   "source": []
  },
  {
   "cell_type": "markdown",
   "metadata": {},
   "source": [
    "# What really is automation?\n",
    "\n",
    "First question:  what really is anything on a computer?\n",
    "\n",
    "## Think text\n",
    "\n",
    "* What are file paths?  Text.\n",
    "* What are file names?  Text.\n",
    "* What's data?  A lot of text.\n",
    "* What's a command line argument?  Text.\n",
    "* What are URLS?  Text.\n",
    "* What are webpages?  Text and friends. \n",
    "\n",
    "\n",
    "## Three steps to any automation task:\n",
    "\n",
    "1. Gather all the stuff you need to do things to\n",
    "2. Feed those things into what you need to do\n",
    "3. Output all the things\n",
    "\n",
    "## Use string manipulation in Python allows you to build stuff\n",
    "\n",
    "Life is one big mad lib and so is your data.\n",
    "\n",
    "## So what kind of automation tasks that you need to do?\n",
    "\n",
    "Think less pure automation, and how you can go with a computer assisted task."
   ]
  },
  {
   "cell_type": "markdown",
   "metadata": {},
   "source": [
    "# String stuff in Python: let's get comfy with this\n",
    "\n",
    "* Quotes can be single or double, they just have to match.\n",
    "    * `'yup'`\n",
    "    * `\"yup\"`\n",
    "* There's also triple quotes that allow you to include rendered hard returns (versus `\\n`) in your string.  This is also sometimes used for documentation and other items in your script.  The quotes can also be single or double, they just have to match \n",
    "    * ```python \n",
    "    '''yup\n",
    "    yup'''```\n",
    "    * ``` python \n",
    "    \"\"\"yup\n",
    "    yup\"\"\"```\n",
    "\n",
    "## Concatenation\n",
    "\n",
    "Is the verb in question here.  This smashes two strings together to create a new string.  \n",
    "\n",
    "Important technical detail:  strings are immutable.  This meants that when you start messing with strings, Python will always return back to you a new string in memory.  So it completely valid to mess with a string out in the ether of the program, but you'll need to use an assignment statement to catch the new value.\n",
    "\n",
    "* Use the + sign to concatenate two strings together\n",
    "\n",
    "A note on print(): yes you can use `print(str, str, str)` and it will put a space in there for you, but that space only appears in your output. It doesn't exist in memory to be used later."
   ]
  },
  {
   "cell_type": "code",
   "execution_count": 1,
   "metadata": {},
   "outputs": [
    {
     "name": "stdout",
     "output_type": "stream",
     "text": [
      "schoolbus\n"
     ]
    }
   ],
   "source": [
    "thing1 = \"school\"\n",
    "thing2 = \"bus\"\n",
    "\n",
    "print(thing1 + thing2)"
   ]
  },
  {
   "cell_type": "markdown",
   "metadata": {},
   "source": [
    "That looks good, but I need a space between them!"
   ]
  },
  {
   "cell_type": "code",
   "execution_count": 2,
   "metadata": {},
   "outputs": [
    {
     "name": "stdout",
     "output_type": "stream",
     "text": [
      "school bus\n"
     ]
    }
   ],
   "source": [
    "print(thing1 + \" \" + thing2)"
   ]
  },
  {
   "cell_type": "markdown",
   "metadata": {},
   "source": [
    "In this example we've mixed in variables containing strings with literal strings.  Python doesn't care!  The variables hold the string data types that were part of their assignment, so Python really doesn't see a difference between them.\n",
    "\n",
    "Here we can do a little mad lib thing."
   ]
  },
  {
   "cell_type": "code",
   "execution_count": 7,
   "metadata": {},
   "outputs": [
    {
     "name": "stdout",
     "output_type": "stream",
     "text": [
      "Does your tuatara lick many interesting tuataras on the bus?\n"
     ]
    }
   ],
   "source": [
    "animal_singular = \"tuatara\"\n",
    "animal_plural = \"tuataras\"\n",
    "mode_of_transit = \"bus\"\n",
    "verb = \"lick\"\n",
    "\n",
    "base = \"Does your \" + animal_singular + \" \" + verb + \" many interesting \" \\\n",
    "        + animal_plural + \" on the \" + mode_of_transit + \"?\"\n",
    "    \n",
    "print(base)"
   ]
  },
  {
   "cell_type": "markdown",
   "metadata": {},
   "source": [
    "Things to note:\n",
    "\n",
    "* I needed to hard code the spaces in there\n",
    "* I used `\\` to wrap my long string in there\n",
    "* I used a combination of strings and variables of strings, with `+` between each to concat them.\n",
    "* I saved this to a string so I have saved the value.\n",
    "* You can't tell where the variable values came in\n",
    "* I have combined many objects into a single object, my new string\n",
    "\n",
    "**Activity:  Break into pairs.  Each person independently writes a madlib (be funny but respectful!) and then prompts the other for the answers.**"
   ]
  },
  {
   "cell_type": "markdown",
   "metadata": {},
   "source": [
    "## More advanced looping\n",
    "\n",
    "So we should already be a bit femiliar with a for loop in Python.  But let's revisit the basics again."
   ]
  },
  {
   "cell_type": "code",
   "execution_count": 9,
   "metadata": {},
   "outputs": [
    {
     "name": "stdout",
     "output_type": "stream",
     "text": [
      "I like red\n",
      "I like green\n",
      "I like blue\n"
     ]
    }
   ],
   "source": [
    "colors = ['red', 'green', 'blue']\n",
    "\n",
    "for name in colors:\n",
    "    print(\"I like \" + name)"
   ]
  },
  {
   "cell_type": "markdown",
   "metadata": {},
   "source": [
    "In this way, we can provide a series of values to loop over, repeating a task.  I'm not doing much of interest here, but we can look at more complex data strucure.  The list of lists.\n",
    "\n",
    "Say that I have a list containing all 4 of my madlib values."
   ]
  },
  {
   "cell_type": "code",
   "execution_count": 11,
   "metadata": {
    "collapsed": true
   },
   "outputs": [],
   "source": [
    "answers = ['tuatara', 'tuataras', 'bus', \"lick\"]"
   ]
  },
  {
   "cell_type": "markdown",
   "metadata": {},
   "source": [
    "You'll note here:\n",
    "\n",
    "* the square brackets surrounding my content mean I'm working with a list\n",
    "    * versus when you see [] directly to the right of something that's a data extraction notation\n",
    "* each element is separated by a comma, and the comma is outside/between the quotes\n",
    "* each element is a string, and we know they are strings because of the quotes.  I could have other data types in here if I wanted, but I'm working all with strings because that's my data.  I only need quotes because I'm working with strings.\n",
    "* that I'm mixing my use of single and double quotes, and python doesn't care (so long as they balance around the individual strings)\n",
    "* each comma is followed by a white space, which is not required by Python, but I prefer for reabability\n",
    "* I'm using a single equal sign for an assignment\n",
    "* like my commas, there are white spaces surrounding the `=`, which is personal preference for readability\n",
    "* my list variable name is plural, which is a personal style choice\n",
    "\n",
    "Let's say now that we collect multiple responses."
   ]
  },
  {
   "cell_type": "code",
   "execution_count": 12,
   "metadata": {
    "collapsed": true
   },
   "outputs": [],
   "source": [
    "person1 = ['tuatara', 'tuataras', 'bus', \"lick\"]\n",
    "person2 = ['cat', 'cats', 'car', 'purr']\n",
    "person3 = ['sloth', 'sloth', 'sleigh', 'sleep']"
   ]
  },
  {
   "cell_type": "markdown",
   "metadata": {},
   "source": [
    "We can use these individual variables one at a time, but that won't serve us very well if we want to loop over them or are constructing them from a data file.  In fact, there's very little useful about having all three of these stored in different variables.\n",
    "\n",
    "Instead, we can think:  what's a data structure useful for collecting up things?  A list!\n",
    "\n",
    "So we can make a list of lists.  We could define it as such:  `all_answers = [person1, person2, person3]`\n",
    "\n",
    "But instead we'll use a base pattern that you're more likely to use, a list accumulator.  Imagine that you are looping over a data file and collecting these values.  You'll need to add those values to the end of that list, one by one.  \n",
    "\n",
    "We aren't looping over things, but we can still use the right methods for the job."
   ]
  },
  {
   "cell_type": "code",
   "execution_count": 13,
   "metadata": {},
   "outputs": [
    {
     "name": "stdout",
     "output_type": "stream",
     "text": [
      "[['tuatara', 'tuataras', 'bus', 'lick'], ['cat', 'cats', 'car', 'purr'], ['sloth', 'sloth', 'sleigh', 'sleep']]\n"
     ]
    }
   ],
   "source": [
    "answers = []\n",
    "answers.append(person1)\n",
    "answers.append(person2)\n",
    "answers.append(person3)\n",
    "\n",
    "print(answers)"
   ]
  },
  {
   "cell_type": "markdown",
   "metadata": {},
   "source": [
    "Let's talk about append\n",
    "\n",
    "Method summary:  `list_that_exists.append(thing_to_add_to_it)`\n",
    " \n",
    "* unlike strings, lists can be mutated under foot\n",
    "* so the object that you've given a variable name to can be changed without a reassignment statement\n",
    "* append does not return a new list back to you. It changes the list in question to add stuff to it.\n",
    "* the list you want to have the thing comes before append, and the thing you want to go into \n",
    "\n",
    "Let's talk about this data structure for a minute.\n",
    "\n",
    "* the outer list has a length of 3, becasue there are three lists in there.\n",
    "* even though those lists all have many strings in them, the individual lists only count as one object\n",
    "* each list holds 4 strings, and this is by design and choice.  You could have lists of differing lengths and of differing data types.\n",
    "* any value of having the variable name labels is now lost, we will have to depend on just the position numbers to be consistant.  Again, this isn't Python enforcing this, this is us creating and sticking to our own rules.\n",
    "\n",
    "So now when we iterate over it:"
   ]
  },
  {
   "cell_type": "code",
   "execution_count": 14,
   "metadata": {},
   "outputs": [
    {
     "name": "stdout",
     "output_type": "stream",
     "text": [
      "['tuatara', 'tuataras', 'bus', 'lick']\n",
      "['cat', 'cats', 'car', 'purr']\n",
      "['sloth', 'sloth', 'sleigh', 'sleep']\n"
     ]
    }
   ],
   "source": [
    "for one_group in answers:\n",
    "    print(one_group)"
   ]
  },
  {
   "cell_type": "markdown",
   "metadata": {},
   "source": [
    "A good question will be: we've got these values in there, how can we get them out in an orderly way and smash them back into our madlib?\n",
    "\n",
    "Well, the multiassignment comes in pretty handy for that.\n",
    "\n",
    "This allows you to specify multiple variable names for assignment.  You must have a matching number of things for this version of the syntax to work.  So if you have two variables listed on th left of =, you need to have two unpackable values on the right.  There are several ways to make this work, and you may have seen this in a few other contexts.  But we're going to go with a list pattern.\n",
    "\n",
    "Remember our orignal variable names?  \n",
    "``` python\n",
    "animal_singular = \"tuatara\"\n",
    "animal_plural = \"tuataras\"\n",
    "mode_of_transit = \"bus\"\n",
    "verb = \"lick\"\n",
    "```\n",
    "\n",
    "We now have a list of just the values, but we can unpack those values.  Remember that when we iterate over the list of lists, out iterable variable will contain the lists with those strings, one at a time."
   ]
  },
  {
   "cell_type": "code",
   "execution_count": 16,
   "metadata": {
    "collapsed": true
   },
   "outputs": [],
   "source": [
    "animal_singular, animal_plural, mode_of_transit, verb = ['cat', 'cats', 'car', 'purr']"
   ]
  },
  {
   "cell_type": "markdown",
   "metadata": {},
   "source": [
    "Let's print those out and check out work."
   ]
  },
  {
   "cell_type": "code",
   "execution_count": 17,
   "metadata": {},
   "outputs": [
    {
     "name": "stdout",
     "output_type": "stream",
     "text": [
      "cat cats car purr\n"
     ]
    }
   ],
   "source": [
    "print(animal_singular, animal_plural, mode_of_transit, verb)"
   ]
  },
  {
   "cell_type": "markdown",
   "metadata": {},
   "source": [
    "We've got two things:  \n",
    "\n",
    "1. a way to contain all out instances of data in one list (which we already know we can loop over)\n",
    "2. a way to unpack all the values form those instances of data as we are looping over it\n",
    "\n",
    "Let's put it together."
   ]
  },
  {
   "cell_type": "code",
   "execution_count": 18,
   "metadata": {},
   "outputs": [
    {
     "name": "stdout",
     "output_type": "stream",
     "text": [
      "['tuatara', 'tuataras', 'bus', 'lick']\n",
      "['cat', 'cats', 'car', 'purr']\n",
      "['sloth', 'sloth', 'sleigh', 'sleep']\n"
     ]
    }
   ],
   "source": [
    "for one_group in answers: # just the basic for loop\n",
    "    print(one_group)"
   ]
  },
  {
   "cell_type": "markdown",
   "metadata": {},
   "source": [
    "Remember now that our iterable variable holds those individual lists, so don't see `one_group`, try to see those lists of 4 strings."
   ]
  },
  {
   "cell_type": "code",
   "execution_count": 20,
   "metadata": {},
   "outputs": [
    {
     "name": "stdout",
     "output_type": "stream",
     "text": [
      "tuatara tuataras bus lick\n",
      "cat cats car purr\n",
      "sloth sloth sleigh sleep\n"
     ]
    }
   ],
   "source": [
    "for one_group in answers:\n",
    "    animal_singular, animal_plural, mode_of_transit, verb = one_group\n",
    "    print(animal_singular, animal_plural, mode_of_transit, verb)"
   ]
  },
  {
   "cell_type": "code",
   "execution_count": 21,
   "metadata": {},
   "outputs": [
    {
     "name": "stdout",
     "output_type": "stream",
     "text": [
      "Does your tuatara lick many interesting tuataras on the bus?\n",
      "Does your cat purr many interesting cats on the car?\n",
      "Does your sloth sleep many interesting sloth on the sleigh?\n"
     ]
    }
   ],
   "source": [
    "# now add the madlibs in!\n",
    "\n",
    "for one_group in answers:\n",
    "    animal_singular, animal_plural, mode_of_transit, verb = one_group\n",
    "    print(\"Does your \" + animal_singular + \" \" + verb + \" many interesting \" \\\n",
    "        + animal_plural + \" on the \" + mode_of_transit + \"?\")"
   ]
  },
  {
   "cell_type": "markdown",
   "metadata": {},
   "source": [
    "## section wrap up\n",
    "\n",
    "What lingering questions do you have about this and any other python syntax?"
   ]
  },
  {
   "cell_type": "markdown",
   "metadata": {},
   "source": [
    "# GitHub for solo projects\n",
    "\n",
    "do the thing in the other repo"
   ]
  },
  {
   "cell_type": "markdown",
   "metadata": {},
   "source": [
    "# Lunch!"
   ]
  },
  {
   "cell_type": "markdown",
   "metadata": {},
   "source": [
    "# Data management protips\n",
    "\n",
    "slide deck party parrot"
   ]
  },
  {
   "cell_type": "markdown",
   "metadata": {},
   "source": [
    "# Reading and writing files\n",
    "\n",
    "* X Using glob module to gather a list file names \n",
    "* X Looping over a list of file paths to act on those files\n",
    "* Fun os module protips (copy, move, rename, etc).\n",
    "* String manipulation and constructing lists of file names\n",
    "* Looping over lists of file paths and writing files\n"
   ]
  },
  {
   "cell_type": "markdown",
   "metadata": {
    "collapsed": true
   },
   "source": [
    "## Using glob\n",
    "\n",
    "Getting file names can be rough, but it doesn't have to be.  There are ways to have a bit more control over this, but one of the simplest ways of getting file paths out is the glob module.\n",
    "\n",
    "You need to first bring the glob module into our workspace.  Canonically, this is done with a base import statement."
   ]
  },
  {
   "cell_type": "code",
   "execution_count": 1,
   "metadata": {
    "collapsed": true
   },
   "outputs": [],
   "source": [
    "import glob"
   ]
  },
  {
   "cell_type": "markdown",
   "metadata": {
    "collapsed": true
   },
   "source": [
    "Now that the module is imported, we can use out dot notation to use functions that live inside it.  The main function that you'll want to use is called `glob()`.   This means that we need to use `glob.glob()` to make it run.\n",
    "\n",
    "This function takes a single string argument.  The advantage of this function is that you can give it a string value of a unix path search.  This will search and give you back a list of strings, each representing the relative path for that file from your current working directory. While this wonk't to recursively look inside folders, it does keep your code tidy and flexible.\n",
    "\n",
    "Don't worry if you don't know these too well!  Here are some basics:\n",
    "\n",
    "* `*` will act like a wildcard and get everything within that folder\n",
    "* `*.txt` will grab all the text files, etc.  \n",
    "* You can put unix valid regex in here as well\n",
    "\n",
    "We'll be using a folder of some old screen shots.   This lives in a folder that is in the same directory of my script.  So I can specify my folder name and then say `*` to get all the files in there.\n"
   ]
  },
  {
   "cell_type": "code",
   "execution_count": 7,
   "metadata": {},
   "outputs": [],
   "source": [
    "import glob\n",
    "\n",
    "shots = glob.glob('ScreenShots/*')"
   ]
  },
  {
   "cell_type": "markdown",
   "metadata": {
    "collapsed": true
   },
   "source": [
    "## Looping over a list of files to open them\n",
    "\n",
    "So we have screen shots here, let's loop through our file names and try to collect some system metadata about it.\n",
    "\n",
    "File paths need only be a string here, so we have a list of valid paths and that's totally fine for out purposes."
   ]
  },
  {
   "cell_type": "code",
   "execution_count": 9,
   "metadata": {},
   "outputs": [
    {
     "name": "stdout",
     "output_type": "stream",
     "text": [
      "18685\n",
      "74553\n",
      "30227\n",
      "327221\n",
      "86864\n",
      "32314\n",
      "63389\n",
      "201330\n",
      "42612\n",
      "12440\n",
      "65690\n",
      "36521\n",
      "34697\n",
      "70671\n",
      "9551\n",
      "198167\n",
      "37462\n",
      "45865\n",
      "45677\n",
      "66086\n",
      "139650\n",
      "87697\n",
      "11013\n",
      "565384\n",
      "119146\n",
      "59566\n",
      "24117\n",
      "23707\n",
      "297227\n",
      "288833\n",
      "285243\n",
      "267300\n",
      "57698\n",
      "84352\n",
      "166745\n",
      "52660\n",
      "1643261\n",
      "1097026\n",
      "2069808\n",
      "55132\n",
      "45882\n",
      "1060670\n",
      "42098\n",
      "20338\n",
      "45243\n",
      "25295\n",
      "220507\n",
      "234150\n",
      "61777\n",
      "42453\n",
      "14934\n",
      "617248\n",
      "294610\n",
      "180824\n"
     ]
    }
   ],
   "source": [
    "import os\n",
    "\n",
    "for file in shots:\n",
    "    print(os.path.getsize(file))"
   ]
  },
  {
   "cell_type": "markdown",
   "metadata": {},
   "source": [
    "Likewise, what if we had text and wanted to open the files?  Same process.  We can look at how many characters are in that file."
   ]
  },
  {
   "cell_type": "code",
   "execution_count": 12,
   "metadata": {},
   "outputs": [
    {
     "name": "stdout",
     "output_type": "stream",
     "text": [
      "30778 characters\n",
      "31004 characters\n",
      "27115 characters\n",
      "38109 characters\n",
      "34585 characters\n",
      "32866 characters\n",
      "29972 characters\n",
      "24037 characters\n",
      "29548 characters\n",
      "36076 characters\n",
      "29613 characters\n",
      "28669 characters\n",
      "31510 characters\n",
      "32320 characters\n",
      "28248 characters\n",
      "29729 characters\n",
      "32463 characters\n",
      "33077 characters\n",
      "37765 characters\n",
      "40984 characters\n",
      "30084 characters\n",
      "30859 characters\n",
      "18157 characters\n",
      "29776 characters\n",
      "30936 characters\n",
      "33191 characters\n",
      "30664 characters\n"
     ]
    }
   ],
   "source": [
    "chapters = glob.glob('Dracula/*.txt')\n",
    "\n",
    "for chap_path in chapters:\n",
    "    with open(chap_path, 'r') as fin:\n",
    "        print(len(fin.read()), \"characters\")"
   ]
  },
  {
   "cell_type": "markdown",
   "metadata": {},
   "source": [
    "## Copying and moving files\n",
    "\n",
    "Sometimes you want to move files or copy them over.  There are things for that in the os.  There are many here, so it is worth readin through some of the options if you need to actually do these things.  Importantly, some of these functions will preserve the access/creation metadata and others won't.\n",
    "\n",
    "We're going to start messing with the screen shot files, so let's go ahead and copy them over to a new folder.  \n",
    "\n",
    "There are a few tasks here that we might want to do:\n",
    "\n",
    "* check if a folder/path currently exists\n",
    "* make it if it doesn't\n",
    "* make copies of all the files in one folder to another\n",
    "\n",
    "These things all exist in separate utilities, so we'll have to do some more serious imports.\n",
    "\n",
    "* check if a folder exists:  `os.path.isdir(path)` \n",
    "    * https://docs.python.org/3/library/os.path.html\n",
    "* make a folder (the check is just an if statement): `os.mkdir(path)`\n",
    "    * https://docs.python.org/3/library/os.html\n",
    "* make copies of the files into a new place:  `shutil.copy(sourcepath, destinationpath)`\n",
    "    * https://docs.python.org/3/library/shutil.html\n",
    "    \n",
    "Let's set up a plan here:\n",
    "\n",
    "* (import all the things)\n",
    "* check if the folder name we want exists\n",
    "* make the folder if not\n",
    "* get the file paths\n",
    "* loop over the file paths\n",
    "* in the loop, copy the file"
   ]
  },
  {
   "cell_type": "code",
   "execution_count": null,
   "metadata": {
    "collapsed": true
   },
   "outputs": [],
   "source": [
    "# import all the things first, these should be on separate lines\n",
    "# there are other ways of importing things\n",
    "# and some modules have different traditions of how to make imports\n",
    "# always match the traditional style of your community\n",
    "\n",
    "import os\n",
    "import os.path\n",
    "import shutil\n",
    "\n",
    "oldfolder = \"ScreenShots\"\n"
   ]
  },
  {
   "cell_type": "code",
   "execution_count": null,
   "metadata": {
    "collapsed": true
   },
   "outputs": [],
   "source": []
  },
  {
   "cell_type": "code",
   "execution_count": null,
   "metadata": {
    "collapsed": true
   },
   "outputs": [],
   "source": []
  },
  {
   "cell_type": "code",
   "execution_count": null,
   "metadata": {
    "collapsed": true
   },
   "outputs": [],
   "source": []
  },
  {
   "cell_type": "code",
   "execution_count": null,
   "metadata": {
    "collapsed": true
   },
   "outputs": [],
   "source": []
  }
 ],
 "metadata": {
  "kernelspec": {
   "display_name": "Python 3",
   "language": "python",
   "name": "python3"
  },
  "language_info": {
   "codemirror_mode": {
    "name": "ipython",
    "version": 3
   },
   "file_extension": ".py",
   "mimetype": "text/x-python",
   "name": "python",
   "nbconvert_exporter": "python",
   "pygments_lexer": "ipython3",
   "version": "3.6.1"
  }
 },
 "nbformat": 4,
 "nbformat_minor": 2
}
