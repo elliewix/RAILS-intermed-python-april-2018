{
 "cells": [
  {
   "cell_type": "markdown",
   "metadata": {},
   "source": [
    "This is my lesson notes for the workshop.  So I'll be adding mostly code examples with some short narrative to keep me on track, but this isn't being written to be a solo document."
   ]
  },
  {
   "cell_type": "markdown",
   "metadata": {},
   "source": [
    "# Brief Review of Python Syntax (20 min)\n",
    "\n"
   ]
  },
  {
   "cell_type": "code",
   "execution_count": null,
   "metadata": {
    "collapsed": true
   },
   "outputs": [],
   "source": []
  },
  {
   "cell_type": "code",
   "execution_count": null,
   "metadata": {
    "collapsed": true
   },
   "outputs": [],
   "source": []
  },
  {
   "cell_type": "code",
   "execution_count": null,
   "metadata": {
    "collapsed": true
   },
   "outputs": [],
   "source": []
  },
  {
   "cell_type": "markdown",
   "metadata": {},
   "source": [
    "# What really is automation?\n",
    "\n",
    "First question:  what really is anything on a computer?\n",
    "\n",
    "## Think text\n",
    "\n",
    "* What are file paths?  Text.\n",
    "* What are file names?  Text.\n",
    "* What's data?  A lot of text.\n",
    "* What's a command line argument?  Text.\n",
    "* What are URLS?  Text.\n",
    "* What are webpages?  Text and friends. \n",
    "\n",
    "\n",
    "## Three steps to any automation task:\n",
    "\n",
    "1. Gather all the stuff you need to do things to\n",
    "2. Feed those things into what you need to do\n",
    "3. Output all the things\n",
    "\n",
    "## Use string manipulation in Python allows you to build stuff\n",
    "\n",
    "Life is one big mad lib and so is your data.\n",
    "\n",
    "## So what kind of automation tasks that you need to do?\n",
    "\n",
    "Think less pure automation, and how you can go with a computer assisted task."
   ]
  },
  {
   "cell_type": "markdown",
   "metadata": {},
   "source": [
    "# String stuff in Python\n",
    "\n",
    "* Quotes can be single or double, they just have to match.\n",
    "    * `'yup'`\n",
    "    * `\"yup\"`\n",
    "* There's also triple quotes that allow you to include rendered hard returns (versus `\\n`) in your string.  This is also sometimes used for documentation and other items in your script.  The quotes can also be single or double, they just have to match \n",
    "    * ```python \n",
    "    '''yup\n",
    "    yup'''```\n",
    "    * ``` python \n",
    "    \"\"\"yup\n",
    "    yup\"\"\"```\n",
    "\n",
    "## Concatenation\n",
    "\n",
    "Is the verb in question here.  This smashes two strings together to create a new string.  \n",
    "\n",
    "Important technical detail:  strings are immutable.  This meants that when you start messing with strings, Python will always return back to you a new string in memory.  So it completely valid to mess with a string out in the ether of the program, but you'll need to use an assignment statement to catch the new value.\n",
    "\n",
    "* Use the + sign to concatenate two strings together"
   ]
  },
  {
   "cell_type": "code",
   "execution_count": 1,
   "metadata": {},
   "outputs": [
    {
     "name": "stdout",
     "output_type": "stream",
     "text": [
      "schoolbus\n"
     ]
    }
   ],
   "source": [
    "thing1 = \"school\"\n",
    "thing2 = \"bus\"\n",
    "\n",
    "print(thing1 + thing2)"
   ]
  },
  {
   "cell_type": "markdown",
   "metadata": {},
   "source": [
    "That looks good, but I need a space between them!"
   ]
  },
  {
   "cell_type": "code",
   "execution_count": 2,
   "metadata": {},
   "outputs": [
    {
     "name": "stdout",
     "output_type": "stream",
     "text": [
      "school bus\n"
     ]
    }
   ],
   "source": [
    "print(thing1 + \" \" + thing2)"
   ]
  },
  {
   "cell_type": "markdown",
   "metadata": {},
   "source": [
    "In this example we've mixed in variables containing strings with literal strings.  Python doesn't care!  The variables hold the string data types that were part of their assignment, so Python really doesn't see a difference between them.\n",
    "\n",
    "Here we can do a little mad lib thing."
   ]
  },
  {
   "cell_type": "code",
   "execution_count": 7,
   "metadata": {},
   "outputs": [
    {
     "name": "stdout",
     "output_type": "stream",
     "text": [
      "Does your tuatara lick many interesting tuataras on the bus?\n"
     ]
    }
   ],
   "source": [
    "animal_singular = \"tuatara\"\n",
    "animal_plural = \"tuataras\"\n",
    "mode_of_transit = \"bus\"\n",
    "verb = \"lick\"\n",
    "\n",
    "base = \"Does your \" + animal_singular + \" \" + verb + \" many interesting \" \\\n",
    "        + animal_plural + \" on the \" + mode_of_transit + \"?\"\n",
    "    \n",
    "print(base)"
   ]
  },
  {
   "cell_type": "markdown",
   "metadata": {},
   "source": [
    "Things to note:\n",
    "\n",
    "* I needed to hard code the spaces in there\n",
    "* I used `\\` to wrap my long string in there\n",
    "* I used a combination of strings and variables of strings, with `+` between each to concat them.\n",
    "* I saved this to a string so I have saved the value.\n",
    "* You can't tell where the variable values came in\n",
    "* I have combined many objects into a single object, my new string"
   ]
  },
  {
   "cell_type": "code",
   "execution_count": null,
   "metadata": {
    "collapsed": true
   },
   "outputs": [],
   "source": []
  },
  {
   "cell_type": "code",
   "execution_count": null,
   "metadata": {
    "collapsed": true
   },
   "outputs": [],
   "source": []
  },
  {
   "cell_type": "code",
   "execution_count": null,
   "metadata": {
    "collapsed": true
   },
   "outputs": [],
   "source": []
  }
 ],
 "metadata": {
  "kernelspec": {
   "display_name": "Python 3",
   "language": "python",
   "name": "python3"
  },
  "language_info": {
   "codemirror_mode": {
    "name": "ipython",
    "version": 3
   },
   "file_extension": ".py",
   "mimetype": "text/x-python",
   "name": "python",
   "nbconvert_exporter": "python",
   "pygments_lexer": "ipython3",
   "version": "3.6.1"
  }
 },
 "nbformat": 4,
 "nbformat_minor": 2
}
