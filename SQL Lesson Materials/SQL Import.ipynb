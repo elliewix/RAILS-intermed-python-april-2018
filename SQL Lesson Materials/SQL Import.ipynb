{
 "cells": [
  {
   "cell_type": "code",
   "execution_count": 2,
   "metadata": {
    "collapsed": true
   },
   "outputs": [],
   "source": [
    "import sqlite3\n",
    "import csv"
   ]
  },
  {
   "cell_type": "code",
   "execution_count": 3,
   "metadata": {
    "collapsed": true
   },
   "outputs": [],
   "source": [
    "with open('pettigrew.csv', 'r') as fin:\n",
    "    csvin = csv.reader(fin)\n",
    "    headers = next(csvin)\n",
    "    data = [r for r in csvin]"
   ]
  },
  {
   "cell_type": "markdown",
   "metadata": {},
   "source": [
    "First we want to get the column names out of our data."
   ]
  },
  {
   "cell_type": "code",
   "execution_count": 4,
   "metadata": {},
   "outputs": [
    {
     "data": {
      "text/plain": [
       "['BoxNumber', 'FolderNumber', 'Contents', 'Date']"
      ]
     },
     "execution_count": 4,
     "metadata": {},
     "output_type": "execute_result"
    }
   ],
   "source": [
    "headers"
   ]
  },
  {
   "cell_type": "code",
   "execution_count": 5,
   "metadata": {
    "collapsed": true
   },
   "outputs": [],
   "source": [
    "import sqlite3\n",
    "conn = sqlite3.connect('create_pettigrew.db')"
   ]
  },
  {
   "cell_type": "code",
   "execution_count": 6,
   "metadata": {
    "collapsed": true
   },
   "outputs": [],
   "source": [
    "c = conn.cursor()"
   ]
  },
  {
   "cell_type": "markdown",
   "metadata": {},
   "source": [
    "Now that we have database created and a cursor to work with, we can craft our create table SQL statment.  The basic syntax for this query is:\n",
    "\n",
    "``` SQL\n",
    "CREATE TABLE table_name\n",
    "             (col1name datatype, col2name datatype);\n",
    "```\n",
    "\n",
    "So for our example, we need to know 3 pieces:\n",
    "\n",
    "1. what we want to call the table in our database.  Remember that you can have multiple tables in a single database, so this table name needs to be something descriptive enough to uniquely identify it but pithy enough that you can type it repeatedly within reason.\n",
    "2. what the column names will be. This should be pretty reasonable to do because you will likely use them directly from the file that you're reading in.\n",
    "3. The data types for the columns that you'll be reading in.  Database datatypes deserve their own tutorial, but when in doubt make it text.  Likely your columns will be text, nummber, or some datetype.  Section 2 of this document has more information on the different datatypes:  https://www.sqlite.org/datatype3.html The cool thing is that you can cast things from text within the database, so you can read it in as text and explore from there if you aren't really sure the pros and cons of a certain datatype.  You also need to know your data here, and know what the contents are. Again, if you are unsure, code it as text for the first run through and explore the data from there.   In the case of our example here I will feed you what it should be.\n",
    "\n",
    "So here are out answers to this question:\n",
    "\n",
    "1. Let's call it letters\n",
    "2. Our column names from the headers of the CSV hold what we want to use for the column names.\n",
    "3. * `BoxNumber`: `integer` because these are all whole numbers\n",
    "   * `FolderNumber`: `integer` because these are all whole numbers\n",
    "   * `Contents`: `text` because this is a bunch of text\n",
    "   * `Date`: `text` because while dates are contained in here, the format is inconsistant and there's extra text in here that we don't want to lose.\n",
    "\n",
    "So our final SQL command to create this table will be:\n",
    "\n",
    "``` SQL\n",
    "CREATE TABLE letters\n",
    "        (BoxNumber integer, FolderNumber integer, Contents text, Date text)\n",
    "\n",
    "```"
   ]
  },
  {
   "cell_type": "code",
   "execution_count": 8,
   "metadata": {},
   "outputs": [
    {
     "data": {
      "text/plain": [
       "<sqlite3.Cursor at 0x110bceb20>"
      ]
     },
     "execution_count": 8,
     "metadata": {},
     "output_type": "execute_result"
    }
   ],
   "source": [
    "c.execute('''CREATE TABLE letters\n",
    "        (BoxNumber integer, FolderNumber integer, Contents text, Date text)''')"
   ]
  },
  {
   "cell_type": "markdown",
   "metadata": {},
   "source": [
    "Now we need to run through our data and add it to the empty table that we just made.  This process should feel something similar to the list accumulator pattern, where we can't add data to a structure that doesn't already exist.\n",
    "\n",
    "Inserting values commands look like this:\n",
    "\n",
    "``` SQL\n",
    "INSERT INTO table_name VALUES (col2val, col2val)\n",
    "```\n",
    "\n",
    "So in our case, our first row will need to look like:\n",
    "\n",
    "``` SQL\n",
    "INSERT INTO letters VALUES ('1', '1', '[Provenance documents and biographical sources]', 'n.d.')\n",
    "```\n",
    "\n",
    "The order that you put the data into the `()` tuple must match the order of the tables that you created in your create table command.\n",
    "\n",
    "We'll need to play with a few things in here:  \n",
    "\n",
    "* making the tuple out of our data values\n",
    "* placing that formatted tuple into our larger select statement.  \n",
    "\n",
    "Thankfully there's a nice function for handling this for us within the module.\n",
    "\n",
    "This presumes that we have a list of rows to add, that each item in the row is a separate element in those lists, and that the order in the rows is consistant.  It will also nicely sanitize values, etc. for us.\n",
    "\n",
    "Unfortunately, the syntax is somewhot cryptic. \n",
    "\n",
    "The `c.executemany()` (note the `c` which means this is a method that you are calling on your cursor) command takes two arguments:\n",
    "\n",
    "1. the first being a string with your insert pattern and `?` characters where you would want it to place your data values.  You'll need to have as many `?` items in there as you have columns.  So instead of trying to do a `.join()` or something, you can use `(?,?,?,?)` if you have four columns.\n",
    "2. The second argument will be the list of rows that you have.\n",
    "\n",
    "So putting this together, we get this command to execute:"
   ]
  },
  {
   "cell_type": "code",
   "execution_count": 10,
   "metadata": {},
   "outputs": [
    {
     "data": {
      "text/plain": [
       "<sqlite3.Cursor at 0x110bceb20>"
      ]
     },
     "execution_count": 10,
     "metadata": {},
     "output_type": "execute_result"
    }
   ],
   "source": [
    "c.executemany('INSERT INTO letters VALUES (?,?,?,?)', data)"
   ]
  },
  {
   "cell_type": "markdown",
   "metadata": {},
   "source": [
    "We need to save the changes that we've made to our database now."
   ]
  },
  {
   "cell_type": "code",
   "execution_count": 11,
   "metadata": {
    "collapsed": true
   },
   "outputs": [],
   "source": [
    "conn.commit()"
   ]
  },
  {
   "cell_type": "markdown",
   "metadata": {},
   "source": [
    "Let's check our work and see what we've done."
   ]
  },
  {
   "cell_type": "code",
   "execution_count": 13,
   "metadata": {
    "collapsed": true
   },
   "outputs": [],
   "source": [
    "results = c.execute(\"SELECT * FROM letters\")\n",
    "new_data = results.fetchall()"
   ]
  },
  {
   "cell_type": "markdown",
   "metadata": {},
   "source": [
    "Let's check that our data is the same length as before.  Remember that our previous read in is within the `data` variable, the data coming in from the database was saved in the `new_data` variable.  Their lengths should match."
   ]
  },
  {
   "cell_type": "code",
   "execution_count": 14,
   "metadata": {},
   "outputs": [
    {
     "name": "stdout",
     "output_type": "stream",
     "text": [
      "601\n",
      "601\n"
     ]
    }
   ],
   "source": [
    "print(len(data))\n",
    "print(len(new_data))"
   ]
  },
  {
   "cell_type": "markdown",
   "metadata": {},
   "source": [
    "YESSSSSSS."
   ]
  },
  {
   "cell_type": "code",
   "execution_count": 15,
   "metadata": {
    "collapsed": true
   },
   "outputs": [],
   "source": [
    "conn.close()"
   ]
  },
  {
   "cell_type": "code",
   "execution_count": null,
   "metadata": {
    "collapsed": true
   },
   "outputs": [],
   "source": []
  }
 ],
 "metadata": {
  "kernelspec": {
   "display_name": "Python 3",
   "language": "python",
   "name": "python3"
  },
  "language_info": {
   "codemirror_mode": {
    "name": "ipython",
    "version": 3
   },
   "file_extension": ".py",
   "mimetype": "text/x-python",
   "name": "python",
   "nbconvert_exporter": "python",
   "pygments_lexer": "ipython3",
   "version": "3.6.1"
  }
 },
 "nbformat": 4,
 "nbformat_minor": 2
}
