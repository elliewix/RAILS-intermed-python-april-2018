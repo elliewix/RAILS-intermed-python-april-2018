{
 "cells": [
  {
   "cell_type": "markdown",
   "metadata": {},
   "source": [
    "# RAILS JSON lesson\n",
    "\n",
    "2018-07-26\n",
    "\n",
    "For today's lesson, I thought that we could revisit some of the JSON materials that we covered in our in person session.  We briefly looked at the tools associated with it, but didn't fully explore some of the strengths  and common approaches for working within it.  \n",
    "\n",
    "Let's remind ourselves of our data and how JSON data structures operate.\n",
    "\n",
    "## How is JSON data organized?\n",
    "\n",
    "Actual JSON files are ordered driven by schemas, really similarly to how we write XML files. The core rule structure supports a lot of flexibility, but the schemas impose more rules and define meaning for label usage.\n",
    "\n",
    "Generally speaking, this data is structured in attribute/value pairs.  If you're used to working with dictionaries in Python, then this structure will work pretty much the same.  There are data types respected in JSON, including data collection types.\n",
    "\n",
    "There is a single root structure that all data is stored within empty curly braces.\n",
    "\n",
    "`{}`\n",
    "\n",
    "This cantainer will contain attribute/value pairs (to borrow the Python lingo).  This is formatted almost exactly how you know dictionaries operate.  Attribute labels are usually stored as strings (offering the most flexibility in content and processing), followed by a colon `:`, followed by the value for that key.  The value's data type of open to however you need or desire to store the value, and you can even have more JSON data structures or arrays (that operate like Python lists).\n",
    "\n",
    "## How are entities stored?\n",
    "\n",
    "Generally, again because the framework doesn't require this, these structures are very deeply nested.  There are two ways that these appear.\n",
    "\n",
    "### The first pattern: the record entry\n",
    "\n",
    "Usually living at the deepest level of the structure, this is a pattern that is usually used to capture a single record's data.  Let's take a book.\n",
    "\n",
    "``` json\n",
    "{ 'title': 'Hello Friends',\n",
    "  'pub_date': '2018-04-23',\n",
    "  'id':  '034039',\n",
    "  'authors': 'Human One (writer); Human Two (editor); Human Three (editor)'\n",
    "}\n",
    "\n",
    "```\n",
    "\n",
    "This is a pretty small record, but gets the point across.  This structure holds three attribute pairs:  title, pub_date, and id.  These all have values that are all strings.  There's noting with this structure that we couldn't easily transform over into a 2D structure.  There is a 1 to 1 relationship, one attribute has one and only one value.  \n",
    "\n",
    "Let's add some more data to explore the power of this structure.  \n",
    "\n",
    "\n",
    "``` json\n",
    "{ 'title': 'Hello Friends',\n",
    "  'pub_date': '2018-04-23',\n",
    "  'id':  '034039',\n",
    "  'author':  ['Human One (writer)', 'Human Two (editor)', 'Human Three (editor)']\n",
    "}\n",
    "\n",
    "```\n",
    "\n",
    "I've added this author attribute pair.  From a technical stanpoint, there is a one to one relationship.  There is a single attribute (author) and one value attached to it.  Looking at this value will tell you that I'm either wrong or lying to you.  Again, from a technical standpoint there's a single object stored within the value.  However, this object is a data collection object.  Where we might look at this like a list within python, it is in fact called an array for json.  But the point is about the same. It allows you to satisfy the need to have a single object stored in that value, but have many values inside it.\n",
    "\n",
    "We've been able to store two values within this collection, keeping them collected in one object and neatly in place, but the values are still separate enough for me to cleanly extract them individually.  I don't have to presume a delimeter in the text, because the data points are literally separate from eachother.\n",
    "\n",
    "This sort of relationship can be stored within a relational database via two tables:  one table that holds the book data that includes the book id key, and another authors table that has pairs of book IDs and author names or other information.  There may even be three tables, that same book table, a table containing solely the book ids and author ids, and then another with author ID numbers and all the biographical data about that author. \n",
    "\n",
    "But in our json structure we can see that it's all just stored right there, and is pretty readable even as raw data.  Here we can ask for the authors directly without having to bash apart any text.  Because they're stored in something like a list, we can also iterate them as normal.\n",
    "\n",
    "Let's expand this even more.\n",
    "\n",
    "``` json\n",
    "{ 'title': 'Hello Friends',\n",
    "  'pub_date': '2018-04-23',\n",
    "  'id':  '034039',\n",
    "  'author':  {'writer': 'Human One', 'editor': ['Human Two', 'Human Three']}\n",
    "}\n",
    "\n",
    "```\n",
    "\n",
    "Here we can see the depth building up.  We've taken this idea of the people's names all condensed out and abstracted it into individual elements of an array.  Now we've abstracted out the roles into their own attributes, with the attribute labels containing the role that they held.  So we've finally restricted the granularity of our strings to keep the names separate from other people and the roles separate from the name. \n",
    "\n",
    "While this is beautiful and reasonably human readable, running a query on this will require much more than just asking for the author list.  That might be valuable to you, but it may be more trouble than it's worth.  All three of these level of data granularity are just fine for JSON as a structure, so much of this is up to you unless you're working with a specific schema.\n",
    "\n",
    "You'll need to carefully balance the level of detail you want with how obnoxious it will be to process it.\n",
    "\n",
    "### The second patters:  a record of records\n",
    "\n",
    "The true power of json is that you can easily smash many records into one big structure, and even include some metadata about that chunk of data.\n",
    "\n",
    "Many times within APIs you'll be doing large queries that are delivering you many records as one result.  So instead of having to respond to 1,000 of your queries, it can give you 100 records in 10 queries.\n",
    "\n",
    "We saw this in the data that we worked with in our first workshop session.  \n",
    "\n",
    "Remember that all JSON structures will have one outside wrapper of `{}`.  The first level of the hierarchy here is:\n",
    "\n",
    "`data` and `meta`\n",
    "\n",
    "`data` contains another JSON object (the thing with the curly braces).  This contains many more objects that represent individual records.\n",
    "\n",
    "`meta` contains a JSON object that has attribute pairs with administrative metadata about the data files being received.  Here you'll find timestamps about the request, how many items are in the data payload, etc.  This is a really common pattern to find in these kinds of API calls and other data payload files.\n",
    "\n",
    "Let's start exploring this in Python.\n",
    "\n",
    "# JSON in Python\n",
    "\n",
    "We first need to import the `json` module from the standard Python library."
   ]
  },
  {
   "cell_type": "code",
   "execution_count": 1,
   "metadata": {
    "collapsed": true
   },
   "outputs": [],
   "source": [
    "import json"
   ]
  },
  {
   "cell_type": "markdown",
   "metadata": {
    "collapsed": true
   },
   "source": [
    "The main reading function to use is `json.load(fileio)`.  You first need to open this file path up as a file io object in read mode.  Then you can pass that open object to this function.  You will be given a Python dictionary representing the JSON data.  You can also use the `json.loads()` function to have it parse a JSON data structure saved as a string."
   ]
  },
  {
   "cell_type": "code",
   "execution_count": 23,
   "metadata": {},
   "outputs": [
    {
     "name": "stdout",
     "output_type": "stream",
     "text": [
      "<class 'dict'>\n"
     ]
    }
   ],
   "source": [
    "with open('results/result_page_1.json', 'r') as file_in:\n",
    "    data = json.load(file_in)\n",
    "    \n",
    "print(type(data))"
   ]
  },
  {
   "cell_type": "markdown",
   "metadata": {
    "collapsed": true
   },
   "source": [
    "Now we can operate on the data using normal dictionary data syntax. Let's look at the keys first."
   ]
  },
  {
   "cell_type": "code",
   "execution_count": 24,
   "metadata": {},
   "outputs": [
    {
     "name": "stdout",
     "output_type": "stream",
     "text": [
      "dict_keys(['data', 'meta'])\n"
     ]
    }
   ],
   "source": [
    "print(data.keys())"
   ]
  },
  {
   "cell_type": "markdown",
   "metadata": {},
   "source": [
    "We know that this structure is very deep, but this `.keys()` method doesn't work recursively.  It will only give you the keys for the top level dictionary.  \n",
    "\n",
    "A warning here!  Python dictionary structures do not allow keys to be repeated.  All keys must be unique.  JSON specification does suggest that you don't repeat keys, but you may be working with a json data file that violates this rule.  The python parser will work with these files, but it will drop all but the last value seen if there are any repeating keys found.  This acts really similar to how a dictionary will appear if you are attempting do create it with an accumulator but you include duplicate keys. Because the `dict[key] = value` syntax works for both key/value creation and value overwrite, the last one seen in a key repeat will be the last one remaining.\n",
    "\n",
    "Let's dig into the `meta` chunk because that's smaller. Remember our dictionary syntax here."
   ]
  },
  {
   "cell_type": "code",
   "execution_count": 25,
   "metadata": {},
   "outputs": [
    {
     "name": "stdout",
     "output_type": "stream",
     "text": [
      "{'resource-types': [{'id': 'dataset', 'title': 'Dataset', 'count': 729}, {'id': 'image', 'title': 'Image', 'count': 554}, {'id': 'text', 'title': 'Text', 'count': 532}, {'id': 'collection', 'title': 'Collection', 'count': 164}, {'id': 'audiovisual', 'title': 'Audiovisual', 'count': 26}, {'id': 'other', 'title': 'Other', 'count': 24}, {'id': 'software', 'title': 'Software', 'count': 17}, {'id': 'event', 'title': 'Event', 'count': 1}, {'id': 'film', 'title': 'Film', 'count': 1}, {'id': 'model', 'title': 'Model', 'count': 1}, {'id': 'physical-object', 'title': 'Physical object', 'count': 1}], 'years': [{'id': '2018', 'title': '2018', 'count': 175}, {'id': '2017', 'title': '2017', 'count': 485}, {'id': '2016', 'title': '2016', 'count': 313}, {'id': '2015', 'title': '2015', 'count': 267}, {'id': '2014', 'title': '2014', 'count': 104}, {'id': '2013', 'title': '2013', 'count': 100}, {'id': '2012', 'title': '2012', 'count': 82}, {'id': '2011', 'title': '2011', 'count': 94}, {'id': '2010', 'title': '2010', 'count': 68}, {'id': '2009', 'title': '2009', 'count': 56}, {'id': '2008', 'title': '2008', 'count': 37}, {'id': '2007', 'title': '2007', 'count': 61}, {'id': '2006', 'title': '2006', 'count': 34}, {'id': '2005', 'title': '2005', 'count': 30}, {'id': '1938', 'title': '1938', 'count': 23}], 'registered': [{'id': '2018', 'title': '2018', 'count': 280}, {'id': '2017', 'title': '2017', 'count': 745}, {'id': '2016', 'title': '2016', 'count': 646}, {'id': '2015', 'title': '2015', 'count': 191}, {'id': '2014', 'title': '2014', 'count': 102}, {'id': '2013', 'title': '2013', 'count': 134}, {'id': '2012', 'title': '2012', 'count': 40}, {'id': '2011', 'title': '2011', 'count': 17}, {'id': '2010', 'title': '2010', 'count': 23}, {'id': '2009', 'title': '2009', 'count': 2}, {'id': '2008', 'title': '2008', 'count': 2}, {'id': '2007', 'title': '2007', 'count': 4}], 'data_centers': [{'id': 'cern.zenodo', 'title': 'ZENODO - Research. Shared.', 'count': 556}, {'id': 'dk.gbif', 'title': 'Global Biodiversity Information Facility', 'count': 425}, {'id': 'figshare.ars', 'title': 'figshare Academic Research System', 'count': 358}, {'id': 'cdl.dryad', 'title': 'Dryad', 'count': 151}, {'id': 'cdl.ucbmvz', 'title': 'UC Berkeley Museum of Vertebrate Zoology', 'count': 104}, {'id': 'rg.rg', 'title': 'ResearchGate', 'count': 100}, {'id': 'ands.centre72', 'title': 'PARADISEC', 'count': 43}, {'id': 'cisti.ubc', 'title': 'University of British Columbia', 'count': 37}, {'id': 'cdl.rutgers', 'title': 'Rutgers University Library', 'count': 36}, {'id': 'cdl.dtic', 'title': 'Defense Technical Information Center (DTIC)', 'count': 31}, {'id': 'crui.unifi', 'title': 'Università degli Studi di Firenze', 'count': 23}, {'id': 'tib.pangaea', 'title': 'PANGAEA', 'count': 20}, {'id': 'osti.nrel', 'title': 'National Renewable Energy Laboratory (NREL)', 'count': 15}, {'id': 'cern.jacow', 'title': 'JACOW', 'count': 13}, {'id': 'bl.cam', 'title': 'University of Cambridge', 'count': 13}], 'schema-versions': [{'id': '4', 'title': 'Schema 4', 'count': 162}, {'id': '3', 'title': 'Schema 3', 'count': 1904}, {'id': '2.2', 'title': 'Schema 2.2', 'count': 119}, {'id': '2.1', 'title': 'Schema 2.1', 'count': 1}], 'total': 2186, 'total_pages': 88, 'page': 1}\n"
     ]
    }
   ],
   "source": [
    "print(data['meta'])"
   ]
  },
  {
   "cell_type": "markdown",
   "metadata": {},
   "source": [
    "You'll note that what was delivered back to me was a dictionary, so I can drill into the keys for this one as well."
   ]
  },
  {
   "cell_type": "code",
   "execution_count": 26,
   "metadata": {},
   "outputs": [
    {
     "name": "stdout",
     "output_type": "stream",
     "text": [
      "dict_keys(['resource-types', 'years', 'registered', 'data_centers', 'schema-versions', 'total', 'total_pages', 'page'])\n"
     ]
    }
   ],
   "source": [
    "print(data['meta'].keys())"
   ]
  },
  {
   "cell_type": "markdown",
   "metadata": {},
   "source": [
    "There's more stuff here that look like actual data points.  So we can start exctracting things!  We'll need to talk a bit about the mind's eye perspective of stacking up these extractions.  Note that these results are numbers but don't have units.  We will still be dependent on documentation and a well known exemplar to put things together and fully understand the meaning of things."
   ]
  },
  {
   "cell_type": "code",
   "execution_count": 27,
   "metadata": {},
   "outputs": [
    {
     "name": "stdout",
     "output_type": "stream",
     "text": [
      "88\n"
     ]
    }
   ],
   "source": [
    "print(data['meta']['total_pages'])"
   ]
  },
  {
   "cell_type": "code",
   "execution_count": 28,
   "metadata": {},
   "outputs": [
    {
     "name": "stdout",
     "output_type": "stream",
     "text": [
      "1\n"
     ]
    }
   ],
   "source": [
    "print(data['meta']['page'])"
   ]
  },
  {
   "cell_type": "code",
   "execution_count": 29,
   "metadata": {},
   "outputs": [
    {
     "name": "stdout",
     "output_type": "stream",
     "text": [
      "dict_keys(['resource-types', 'years', 'registered', 'data_centers', 'schema-versions', 'total', 'total_pages', 'page'])\n",
      "88\n",
      "1\n"
     ]
    }
   ],
   "source": [
    "print(data['meta'].keys())\n",
    "\n",
    "print(data['meta']['total_pages'])\n",
    "\n",
    "print(data['meta']['page'])"
   ]
  },
  {
   "cell_type": "markdown",
   "metadata": {},
   "source": [
    "There's more stuff here that look like actual data points.  So we can start exctracting things!  We'll need to talk a bit about the mind's eye perspective of stacking up these extractions.  Note that these results are numbers but don't have units.  We will still be dependent on documentation and a well known exemplar to put things together and fully understand the meaning of things.\n"
   ]
  },
  {
   "cell_type": "code",
   "execution_count": 30,
   "metadata": {
    "scrolled": true
   },
   "outputs": [
    {
     "name": "stdout",
     "output_type": "stream",
     "text": [
      "2186\n"
     ]
    }
   ],
   "source": [
    "print(data['meta']['total'])"
   ]
  },
  {
   "cell_type": "markdown",
   "metadata": {},
   "source": [
    "At this point we know enough to pull things together and make a nice little program that will loop through these pages and download however many they are.  We may or may not really want to unpack this program.\n",
    "\n",
    "We can go back to using the `glob` module for grabbing all the json files."
   ]
  },
  {
   "cell_type": "code",
   "execution_count": 31,
   "metadata": {},
   "outputs": [
    {
     "name": "stdout",
     "output_type": "stream",
     "text": [
      "['results/result_page_1.json', 'results/result_page_10.json', 'results/result_page_11.json', 'results/result_page_12.json', 'results/result_page_13.json', 'results/result_page_14.json', 'results/result_page_15.json', 'results/result_page_16.json', 'results/result_page_17.json', 'results/result_page_18.json', 'results/result_page_19.json', 'results/result_page_2.json', 'results/result_page_20.json', 'results/result_page_21.json', 'results/result_page_22.json', 'results/result_page_23.json', 'results/result_page_24.json', 'results/result_page_25.json', 'results/result_page_26.json', 'results/result_page_27.json', 'results/result_page_28.json', 'results/result_page_29.json', 'results/result_page_3.json', 'results/result_page_30.json', 'results/result_page_31.json', 'results/result_page_32.json', 'results/result_page_33.json', 'results/result_page_34.json', 'results/result_page_35.json', 'results/result_page_36.json', 'results/result_page_37.json', 'results/result_page_38.json', 'results/result_page_39.json', 'results/result_page_4.json', 'results/result_page_40.json', 'results/result_page_5.json', 'results/result_page_6.json', 'results/result_page_7.json', 'results/result_page_8.json', 'results/result_page_9.json']\n"
     ]
    }
   ],
   "source": [
    "import glob\n",
    "\n",
    "files = glob.glob('results/*.json')\n",
    "\n",
    "print(files)"
   ]
  },
  {
   "cell_type": "markdown",
   "metadata": {},
   "source": [
    "So what if we wanted to reduce this data down and bit and make a data file that only collected the DOI and the attributes about that DOI?\n",
    "\n",
    "First off, what's our tree structure here?\n",
    "\n",
    "Do we want a flat file of objects without ids?  That's just a list.  \n",
    "\n",
    "Do we want each record grouped by the data center?  That might be interesting, but we wouldn't be able to easily query for an arbitrary DOI number.\n",
    "\n",
    "Do we want to have the DOI be the unique attribute and the value be the original object with all the descriptive metadata?  That sounds like a cool first plan.\n",
    "\n",
    "But first we need to concatenate all our records together in a flat list.  We can do this by using the `+` operator on the accumulator list rather than append."
   ]
  },
  {
   "cell_type": "code",
   "execution_count": 43,
   "metadata": {
    "collapsed": true
   },
   "outputs": [],
   "source": [
    "records = []\n",
    "\n",
    "# lets go back to our original small program and add the accumulator to it\n",
    "\n",
    "for file in files:\n",
    "    with open(file, 'r') as fin:\n",
    "        data = json.load(fin)\n",
    "    records += data['data']"
   ]
  },
  {
   "cell_type": "markdown",
   "metadata": {},
   "source": [
    "You may be asking why I didn't use append here.  The structure coming out of `data['meta']['data_centers']` is a list, so had I used `.append()` I would have ended up with a list of lists.\n",
    "\n",
    "There's a nice little trick to lists, where if you use `+` on them they will concatenate all the elements into a single list.  We can see this in action."
   ]
  },
  {
   "cell_type": "code",
   "execution_count": 44,
   "metadata": {},
   "outputs": [
    {
     "name": "stdout",
     "output_type": "stream",
     "text": [
      "[1, 2, 3, 'a', 'b', 'c']\n"
     ]
    }
   ],
   "source": [
    "print([1,2,3] + ['a', 'b', 'c'])"
   ]
  },
  {
   "cell_type": "markdown",
   "metadata": {},
   "source": [
    "Now that we print the accumulator list we can see that everything is saved in one flat structure."
   ]
  },
  {
   "cell_type": "code",
   "execution_count": 47,
   "metadata": {},
   "outputs": [
    {
     "name": "stdout",
     "output_type": "stream",
     "text": [
      "[{'id': 'https://doi.org/10.4225/72/570d1ead85f29', 'type': 'works', 'attributes': {'doi': '10.4225/72/570d1ead85f29', 'identifier': 'https://doi.org/10.4225/72/570d1ead85f29', 'url': None, 'author': [{'literal': 'Don Daniels'}], 'title': 'Snake', 'container-title': 'PARADISEC', 'description': None, 'resource-type-subtype': None, 'data-center-id': 'ands.centre72', 'member-id': 'ands', 'resource-type-id': None, 'version': None, 'license': None, 'schema-version': '3', 'results': [], 'related-identifiers': [], 'published': '2016', 'registered': '2016-04-12T16:13:38Z', 'checked': None, 'updated': '2016-04-12T16:13:38Z', 'media': None, 'xml': 'PD94bWwgdmVyc2lvbj0iMS4wIj8+CjxyZXNvdXJjZSB4bWxucz0iaHR0cDovL2RhdGFjaXRlLm9yZy9zY2hlbWEva2VybmVsLTMiIHhtbG5zOnhzaT0iaHR0cDovL3d3dy53My5vcmcvMjAwMS9YTUxTY2hlbWEtaW5zdGFuY2UiIHhzaTpzY2hlbWFMb2NhdGlvbj0iaHR0cDovL2RhdGFjaXRlLm9yZy9zY2hlbWEva2VybmVsLTMgaHR0cDovL3NjaGVtYS5kYXRhY2l0ZS5vcmcvbWV0YS9rZXJuZWwtMy9tZXRhZGF0YS54c2QiPjxpZGVudGlmaWVyIGlkZW50aWZpZXJUeXBlPSJET0kiPjEwLjQyMjUvNzIvNTcwRDFFQUQ4NUYyOTwvaWRlbnRpZmllcj48Y3JlYXRvcnM+PGNyZWF0b3I+PGNyZWF0b3JOYW1lPkRvbiBEYW5pZWxzPC9jcmVhdG9yTmFtZT48L2NyZWF0b3I+PC9jcmVhdG9ycz48dGl0bGVzPjx0aXRsZT5TbmFrZTwvdGl0bGU+PC90aXRsZXM+PHB1Ymxpc2hlcj5QQVJBRElTRUM8L3B1Ymxpc2hlcj48cHVibGljYXRpb25ZZWFyPjIwMTY8L3B1YmxpY2F0aW9uWWVhcj48Y29udHJpYnV0b3JzPjxjb250cmlidXRvciBjb250cmlidXRvclR5cGU9IkRhdGFDb2xsZWN0b3IiPjxjb250cmlidXRvck5hbWU+RG9uIERhbmllbHM8L2NvbnRyaWJ1dG9yTmFtZT48L2NvbnRyaWJ1dG9yPjxjb250cmlidXRvciBjb250cmlidXRvclR5cGU9IkRhdGFDb2xsZWN0b3IiPjxjb250cmlidXRvck5hbWU+VW5pdmVyc2l0eSBvZiBDYWxpZm9ybmlhLCBTYW50YSBCYXJiYXJhPC9jb250cmlidXRvck5hbWU+PC9jb250cmlidXRvcj48L2NvbnRyaWJ1dG9ycz48cmVsYXRlZElkZW50aWZpZXJzPjxyZWxhdGVkSWRlbnRpZmllciByZWxhdGVkSWRlbnRpZmllclR5cGU9IkRPSSIgcmVsYXRpb25UeXBlPSJJc1BhcnRPZiI+MTAuNDIyNS83Mi81NkU4MjQ4NTYzRUUwPC9yZWxhdGVkSWRlbnRpZmllcj48L3JlbGF0ZWRJZGVudGlmaWVycz48L3Jlc291cmNlPgo='}, 'relationships': {'data-center': {'data': {'id': 'ands.centre72', 'type': 'data-centers'}}, 'member': {'data': {'id': 'ands', 'type': 'members'}}, 'resource-type': {'data': None}}}, {'id': 'https://doi.org/10.17863/cam.18284', 'type': 'works', 'attributes': {'doi': '10.17863/cam.18284', 'identifier': 'https://doi.org/10.17863/cam.18284', 'url': None, 'author': [{'given': 'Anton', 'family': 'Churyumov'}], 'title': 'Oleg Mandzhiev, How Kalmyks Trained Their Horses', 'container-title': 'Apollo - University of Cambridge Repository', 'description': 'Oleg talks about how Kalmyks trained their horses in the past. It is known that horses can see flying objects and that they are also afraid of snakes. Horse training was based on these two principles. When foals were in, children put snakes inside the enclosures so that the foals would get used to them. As foals grew up, snakes were chopped into small pieces and tied to arrows. Then the young horses were shot with these arrows. When horses saw arrows they jumped aside to avoid. In the past during battles Kalmyk warriors dropped their reins loose so that their horses could avoid arrows by themselves.', 'resource-type-subtype': 'Video', 'data-center-id': 'bl.cam', 'member-id': 'bl', 'resource-type-id': 'audiovisual', 'version': None, 'license': None, 'schema-version': '4', 'results': [], 'related-identifiers': [], 'published': '2016', 'registered': '2018-01-29T21:01:42Z', 'checked': None, 'updated': '2018-02-06T19:48:06Z', 'media': None, 'xml': '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'}, 'relationships': {'data-center': {'data': {'id': 'bl.cam', 'type': 'data-centers'}}, 'member': {'data': {'id': 'bl', 'type': 'members'}}, 'resource-type': {'data': {'id': 'audiovisual', 'type': 'resource-types'}}}}, {'id': 'https://doi.org/10.7282/t3gb23fq', 'type': 'works', 'attributes': {'doi': '10.7282/t3gb23fq', 'identifier': 'https://doi.org/10.7282/t3gb23fq', 'url': None, 'author': [{'literal': 'No Name Supplied'}], 'title': 'Corn Snake', 'container-title': 'No Publisher Supplied', 'description': 'The fact sheets provide information regarding the 71 different species of reptiles and amphibians in New Jersey. The purpose of the fact sheets is to help residents and visitors identify the many species throughout the state.', 'resource-type-subtype': None, 'data-center-id': 'cdl.rutgers', 'member-id': 'cdl', 'resource-type-id': 'text', 'version': None, 'license': None, 'schema-version': '2.2', 'results': [], 'related-identifiers': [], 'published': '2002', 'registered': '2015-03-03T22:21:08Z', 'checked': None, 'updated': '2015-03-03T22:21:08Z', 'media': None, 'xml': 'PD94bWwgdmVyc2lvbj0iMS4wIiBlbmNvZGluZz0iVVRGLTgiPz4KPHJlc291cmNlIHhtbG5zPSJodHRwOi8vZGF0YWNpdGUub3JnL3NjaGVtYS9rZXJuZWwtMi4yIiB4bWxuczp4c2k9Imh0dHA6Ly93d3cudzMub3JnLzIwMDEvWE1MU2NoZW1hLWluc3RhbmNlIiB4c2k6c2NoZW1hTG9jYXRpb249Imh0dHA6Ly9kYXRhY2l0ZS5vcmcvc2NoZW1hL2tlcm5lbC0yLjIgaHR0cDovL3NjaGVtYS5kYXRhY2l0ZS5vcmcvbWV0YS9rZXJuZWwtMi4yL21ldGFkYXRhLnhzZCI+ICA8aWRlbnRpZmllciBpZGVudGlmaWVyVHlwZT0iRE9JIj4xMC43MjgyL1QzR0IyM0ZRPC9pZGVudGlmaWVyPiAgPGNyZWF0b3JzPiAgICA8Y3JlYXRvcj4gICAgICA8Y3JlYXRvck5hbWU+Tm8gTmFtZSBTdXBwbGllZDwvY3JlYXRvck5hbWU+ICAgIDwvY3JlYXRvcj4gIDwvY3JlYXRvcnM+ICA8dGl0bGVzPiAgICA8dGl0bGU+Q29ybiBTbmFrZTwvdGl0bGU+ICA8L3RpdGxlcz4gIDxwdWJsaXNoZXI+Tm8gUHVibGlzaGVyIFN1cHBsaWVkPC9wdWJsaXNoZXI+ICA8cHVibGljYXRpb25ZZWFyPjIwMDI8L3B1YmxpY2F0aW9uWWVhcj4gIDxyZXNvdXJjZVR5cGUgcmVzb3VyY2VUeXBlR2VuZXJhbD0iVGV4dCIvPiAgPGRlc2NyaXB0aW9ucz4gICAgPGRlc2NyaXB0aW9uIGRlc2NyaXB0aW9uVHlwZT0iQWJzdHJhY3QiPlRoZSBmYWN0IHNoZWV0cyBwcm92aWRlIGluZm9ybWF0aW9uIHJlZ2FyZGluZyB0aGUgNzEgZGlmZmVyZW50IHNwZWNpZXMgb2YgcmVwdGlsZXMgYW5kIGFtcGhpYmlhbnMgaW4gTmV3IEplcnNleS4gVGhlIHB1cnBvc2Ugb2YgdGhlIGZhY3Qgc2hlZXRzIGlzIHRvIGhlbHAgcmVzaWRlbnRzIGFuZCB2aXNpdG9ycyBpZGVudGlmeSB0aGUgbWFueSBzcGVjaWVzIHRocm91Z2hvdXQgdGhlIHN0YXRlLjwvZGVzY3JpcHRpb24+ICA8L2Rlc2NyaXB0aW9ucz48L3Jlc291cmNlPg=='}, 'relationships': {'data-center': {'data': {'id': 'cdl.rutgers', 'type': 'data-centers'}}, 'member': {'data': {'id': 'cdl', 'type': 'members'}}, 'resource-type': {'data': {'id': 'text', 'type': 'resource-types'}}}}, {'id': 'https://doi.org/10.7282/t3wq036b', 'type': 'works', 'attributes': {'doi': '10.7282/t3wq036b', 'identifier': 'https://doi.org/10.7282/t3wq036b', 'url': None, 'author': [{'literal': 'No Name Supplied'}], 'title': 'Queen Snake', 'container-title': 'No Publisher Supplied', 'description': 'The fact sheets provide information regarding the 71 different species of reptiles and amphibians in New Jersey. The purpose of the fact sheets is to help residents and visitors identify the many species throughout the state.', 'resource-type-subtype': None, 'data-center-id': 'cdl.rutgers', 'member-id': 'cdl', 'resource-type-id': 'text', 'version': None, 'license': None, 'schema-version': '2.2', 'results': [], 'related-identifiers': [], 'published': '2003', 'registered': '2015-03-03T22:24:03Z', 'checked': None, 'updated': '2015-03-03T22:24:03Z', 'media': None, 'xml': 'PD94bWwgdmVyc2lvbj0iMS4wIiBlbmNvZGluZz0iVVRGLTgiPz4KPHJlc291cmNlIHhtbG5zPSJodHRwOi8vZGF0YWNpdGUub3JnL3NjaGVtYS9rZXJuZWwtMi4yIiB4bWxuczp4c2k9Imh0dHA6Ly93d3cudzMub3JnLzIwMDEvWE1MU2NoZW1hLWluc3RhbmNlIiB4c2k6c2NoZW1hTG9jYXRpb249Imh0dHA6Ly9kYXRhY2l0ZS5vcmcvc2NoZW1hL2tlcm5lbC0yLjIgaHR0cDovL3NjaGVtYS5kYXRhY2l0ZS5vcmcvbWV0YS9rZXJuZWwtMi4yL21ldGFkYXRhLnhzZCI+ICA8aWRlbnRpZmllciBpZGVudGlmaWVyVHlwZT0iRE9JIj4xMC43MjgyL1QzV1EwMzZCPC9pZGVudGlmaWVyPiAgPGNyZWF0b3JzPiAgICA8Y3JlYXRvcj4gICAgICA8Y3JlYXRvck5hbWU+Tm8gTmFtZSBTdXBwbGllZDwvY3JlYXRvck5hbWU+ICAgIDwvY3JlYXRvcj4gIDwvY3JlYXRvcnM+ICA8dGl0bGVzPiAgICA8dGl0bGU+UXVlZW4gU25ha2U8L3RpdGxlPiAgPC90aXRsZXM+ICA8cHVibGlzaGVyPk5vIFB1Ymxpc2hlciBTdXBwbGllZDwvcHVibGlzaGVyPiAgPHB1YmxpY2F0aW9uWWVhcj4yMDAzPC9wdWJsaWNhdGlvblllYXI+ICA8cmVzb3VyY2VUeXBlIHJlc291cmNlVHlwZUdlbmVyYWw9IlRleHQiLz4gIDxkZXNjcmlwdGlvbnM+ICAgIDxkZXNjcmlwdGlvbiBkZXNjcmlwdGlvblR5cGU9IkFic3RyYWN0Ij5UaGUgZmFjdCBzaGVldHMgcHJvdmlkZSBpbmZvcm1hdGlvbiByZWdhcmRpbmcgdGhlIDcxIGRpZmZlcmVudCBzcGVjaWVzIG9mIHJlcHRpbGVzIGFuZCBhbXBoaWJpYW5zIGluIE5ldyBKZXJzZXkuIFRoZSBwdXJwb3NlIG9mIHRoZSBmYWN0IHNoZWV0cyBpcyB0byBoZWxwIHJlc2lkZW50cyBhbmQgdmlzaXRvcnMgaWRlbnRpZnkgdGhlIG1hbnkgc3BlY2llcyB0aHJvdWdob3V0IHRoZSBzdGF0ZS48L2Rlc2NyaXB0aW9uPiAgPC9kZXNjcmlwdGlvbnM+PC9yZXNvdXJjZT4='}, 'relationships': {'data-center': {'data': {'id': 'cdl.rutgers', 'type': 'data-centers'}}, 'member': {'data': {'id': 'cdl', 'type': 'members'}}, 'resource-type': {'data': {'id': 'text', 'type': 'resource-types'}}}}, {'id': 'https://doi.org/10.7282/t36d5t6m', 'type': 'works', 'attributes': {'doi': '10.7282/t36d5t6m', 'identifier': 'https://doi.org/10.7282/t36d5t6m', 'url': 'https://rucore.libraries.rutgers.edu/rutgers-lib/25574/', 'author': [{'literal': 'No Name Supplied'}], 'title': 'Snake Hunting', 'container-title': 'No Publisher Supplied', 'description': None, 'resource-type-subtype': None, 'data-center-id': 'cdl.rutgers', 'member-id': 'cdl', 'resource-type-id': 'text', 'version': None, 'license': None, 'schema-version': '2.2', 'results': [], 'related-identifiers': [], 'published': '1907', 'registered': '2015-03-03T15:03:56Z', 'checked': None, 'updated': '2016-12-21T20:49:37Z', 'media': None, 'xml': 'PD94bWwgdmVyc2lvbj0iMS4wIiBlbmNvZGluZz0iVVRGLTgiPz4KPHJlc291cmNlIHhtbG5zPSJodHRwOi8vZGF0YWNpdGUub3JnL3NjaGVtYS9rZXJuZWwtMi4yIiB4bWxuczp4c2k9Imh0dHA6Ly93d3cudzMub3JnLzIwMDEvWE1MU2NoZW1hLWluc3RhbmNlIiB4c2k6c2NoZW1hTG9jYXRpb249Imh0dHA6Ly9kYXRhY2l0ZS5vcmcvc2NoZW1hL2tlcm5lbC0yLjIgaHR0cDovL3NjaGVtYS5kYXRhY2l0ZS5vcmcvbWV0YS9rZXJuZWwtMi4yL21ldGFkYXRhLnhzZCI+ICA8aWRlbnRpZmllciBpZGVudGlmaWVyVHlwZT0iRE9JIj4xMC43MjgyL1QzNkQ1VDZNPC9pZGVudGlmaWVyPiAgPGNyZWF0b3JzPiAgICA8Y3JlYXRvcj4gICAgICA8Y3JlYXRvck5hbWU+Tm8gTmFtZSBTdXBwbGllZDwvY3JlYXRvck5hbWU+ICAgIDwvY3JlYXRvcj4gIDwvY3JlYXRvcnM+ICA8dGl0bGVzPiAgICA8dGl0bGU+U25ha2UgSHVudGluZzwvdGl0bGU+ICA8L3RpdGxlcz4gIDxwdWJsaXNoZXI+Tm8gUHVibGlzaGVyIFN1cHBsaWVkPC9wdWJsaXNoZXI+ICA8cHVibGljYXRpb25ZZWFyPjE5MDc8L3B1YmxpY2F0aW9uWWVhcj4gIDxyZXNvdXJjZVR5cGUgcmVzb3VyY2VUeXBlR2VuZXJhbD0iVGV4dCIvPjwvcmVzb3VyY2U+'}, 'relationships': {'data-center': {'data': {'id': 'cdl.rutgers', 'type': 'data-centers'}}, 'member': {'data': {'id': 'cdl', 'type': 'members'}}, 'resource-type': {'data': {'id': 'text', 'type': 'resource-types'}}}}, {'id': 'https://doi.org/10.7299/x7g15xzk', 'type': 'works', 'attributes': {'doi': '10.7299/x7g15xzk', 'identifier': 'https://doi.org/10.7299/x7g15xzk', 'url': 'http://arctos.database.museum/media/10000928', 'author': [{'literal': 'Tracy I. Storer'}], 'title': 'Rubber Snake', 'container-title': 'Museum of Vertebrate Zoology', 'description': None, 'resource-type-subtype': None, 'data-center-id': 'cdl.ucbmvz', 'member-id': 'cdl', 'resource-type-id': 'image', 'version': None, 'license': None, 'schema-version': '3', 'results': [], 'related-identifiers': [], 'published': '1912', 'registered': '2013-04-10T02:39:07Z', 'checked': None, 'updated': '2016-06-18T01:31:30Z', 'media': None, 'xml': 'PD94bWwgdmVyc2lvbj0iMS4wIiBlbmNvZGluZz0iVVRGLTgiPz4KPHJlc291cmNlIHhtbG5zPSJodHRwOi8vZGF0YWNpdGUub3JnL3NjaGVtYS9rZXJuZWwtMyIKICB4bWxuczp4c2k9Imh0dHA6Ly93d3cudzMub3JnLzIwMDEvWE1MU2NoZW1hLWluc3RhbmNlIgogIHhzaTpzY2hlbWFMb2NhdGlvbj0iaHR0cDovL2RhdGFjaXRlLm9yZy9zY2hlbWEva2VybmVsLTMKICAgIGh0dHA6Ly9zY2hlbWEuZGF0YWNpdGUub3JnL21ldGEva2VybmVsLTMvbWV0YWRhdGEueHNkIj4KICA8aWRlbnRpZmllciBpZGVudGlmaWVyVHlwZT0iRE9JIj4xMC43Mjk5L1g3RzE1WFpLPC9pZGVudGlmaWVyPgogIDxjcmVhdG9ycz4KICAgIDxjcmVhdG9yPgogICAgICA8Y3JlYXRvck5hbWU+VHJhY3kgSS4gU3RvcmVyPC9jcmVhdG9yTmFtZT4KICAgIDwvY3JlYXRvcj4KICA8L2NyZWF0b3JzPgogIDx0aXRsZXM+CiAgICA8dGl0bGU+UnViYmVyIFNuYWtlPC90aXRsZT4KICA8L3RpdGxlcz4KICA8cHVibGlzaGVyPk11c2V1bSBvZiBWZXJ0ZWJyYXRlIFpvb2xvZ3k8L3B1Ymxpc2hlcj4KICA8cHVibGljYXRpb25ZZWFyPjE5MTI8L3B1YmxpY2F0aW9uWWVhcj4KICA8cmVzb3VyY2VUeXBlIHJlc291cmNlVHlwZUdlbmVyYWw9IkltYWdlIi8+CjwvcmVzb3VyY2U+Cg=='}, 'relationships': {'data-center': {'data': {'id': 'cdl.ucbmvz', 'type': 'data-centers'}}, 'member': {'data': {'id': 'cdl', 'type': 'members'}}, 'resource-type': {'data': {'id': 'image', 'type': 'resource-types'}}}}, {'id': 'https://doi.org/10.7299/x78c9tfq', 'type': 'works', 'attributes': {'doi': '10.7299/x78c9tfq', 'identifier': 'https://doi.org/10.7299/x78c9tfq', 'url': 'http://arctos.database.museum/media/10001537', 'author': [{'literal': 'Charles D. Holliger'}], 'title': 'Garter Snake', 'container-title': 'Museum of Vertebrate Zoology', 'description': None, 'resource-type-subtype': None, 'data-center-id': 'cdl.ucbmvz', 'member-id': 'cdl', 'resource-type-id': 'image', 'version': None, 'license': None, 'schema-version': '3', 'results': [], 'related-identifiers': [], 'published': '1915', 'registered': '2013-04-10T03:05:19Z', 'checked': None, 'updated': '2016-06-17T23:51:40Z', 'media': None, 'xml': 'PD94bWwgdmVyc2lvbj0iMS4wIiBlbmNvZGluZz0iVVRGLTgiPz4KPHJlc291cmNlIHhtbG5zPSJodHRwOi8vZGF0YWNpdGUub3JnL3NjaGVtYS9rZXJuZWwtMyIKICB4bWxuczp4c2k9Imh0dHA6Ly93d3cudzMub3JnLzIwMDEvWE1MU2NoZW1hLWluc3RhbmNlIgogIHhzaTpzY2hlbWFMb2NhdGlvbj0iaHR0cDovL2RhdGFjaXRlLm9yZy9zY2hlbWEva2VybmVsLTMKICAgIGh0dHA6Ly9zY2hlbWEuZGF0YWNpdGUub3JnL21ldGEva2VybmVsLTMvbWV0YWRhdGEueHNkIj4KICA8aWRlbnRpZmllciBpZGVudGlmaWVyVHlwZT0iRE9JIj4xMC43Mjk5L1g3OEM5VEZRPC9pZGVudGlmaWVyPgogIDxjcmVhdG9ycz4KICAgIDxjcmVhdG9yPgogICAgICA8Y3JlYXRvck5hbWU+Q2hhcmxlcyBELiBIb2xsaWdlcjwvY3JlYXRvck5hbWU+CiAgICA8L2NyZWF0b3I+CiAgPC9jcmVhdG9ycz4KICA8dGl0bGVzPgogICAgPHRpdGxlPkdhcnRlciBTbmFrZTwvdGl0bGU+CiAgPC90aXRsZXM+CiAgPHB1Ymxpc2hlcj5NdXNldW0gb2YgVmVydGVicmF0ZSBab29sb2d5PC9wdWJsaXNoZXI+CiAgPHB1YmxpY2F0aW9uWWVhcj4xOTE1PC9wdWJsaWNhdGlvblllYXI+CiAgPHJlc291cmNlVHlwZSByZXNvdXJjZVR5cGVHZW5lcmFsPSJJbWFnZSIvPgo8L3Jlc291cmNlPgo='}, 'relationships': {'data-center': {'data': {'id': 'cdl.ucbmvz', 'type': 'data-centers'}}, 'member': {'data': {'id': 'cdl', 'type': 'members'}}, 'resource-type': {'data': {'id': 'image', 'type': 'resource-types'}}}}, {'id': 'https://doi.org/10.7299/x7kp80bz', 'type': 'works', 'attributes': {'doi': '10.7299/x7kp80bz', 'identifier': 'https://doi.org/10.7299/x7kp80bz', 'url': 'http://arctos.database.museum/media/10001536', 'author': [{'literal': 'Charles D. Holliger'}], 'title': 'Gopher snake', 'container-title': 'Museum of Vertebrate Zoology', 'description': None, 'resource-type-subtype': None, 'data-center-id': 'cdl.ucbmvz', 'member-id': 'cdl', 'resource-type-id': 'image', 'version': None, 'license': None, 'schema-version': '3', 'results': [], 'related-identifiers': [], 'published': '1915', 'registered': '2013-04-10T03:05:35Z', 'checked': None, 'updated': '2016-06-17T23:55:02Z', 'media': None, 'xml': 'PD94bWwgdmVyc2lvbj0iMS4wIiBlbmNvZGluZz0iVVRGLTgiPz4KPHJlc291cmNlIHhtbG5zPSJodHRwOi8vZGF0YWNpdGUub3JnL3NjaGVtYS9rZXJuZWwtMyIKICB4bWxuczp4c2k9Imh0dHA6Ly93d3cudzMub3JnLzIwMDEvWE1MU2NoZW1hLWluc3RhbmNlIgogIHhzaTpzY2hlbWFMb2NhdGlvbj0iaHR0cDovL2RhdGFjaXRlLm9yZy9zY2hlbWEva2VybmVsLTMKICAgIGh0dHA6Ly9zY2hlbWEuZGF0YWNpdGUub3JnL21ldGEva2VybmVsLTMvbWV0YWRhdGEueHNkIj4KICA8aWRlbnRpZmllciBpZGVudGlmaWVyVHlwZT0iRE9JIj4xMC43Mjk5L1g3S1A4MEJaPC9pZGVudGlmaWVyPgogIDxjcmVhdG9ycz4KICAgIDxjcmVhdG9yPgogICAgICA8Y3JlYXRvck5hbWU+Q2hhcmxlcyBELiBIb2xsaWdlcjwvY3JlYXRvck5hbWU+CiAgICA8L2NyZWF0b3I+CiAgPC9jcmVhdG9ycz4KICA8dGl0bGVzPgogICAgPHRpdGxlPkdvcGhlciBzbmFrZTwvdGl0bGU+CiAgPC90aXRsZXM+CiAgPHB1Ymxpc2hlcj5NdXNldW0gb2YgVmVydGVicmF0ZSBab29sb2d5PC9wdWJsaXNoZXI+CiAgPHB1YmxpY2F0aW9uWWVhcj4xOTE1PC9wdWJsaWNhdGlvblllYXI+CiAgPHJlc291cmNlVHlwZSByZXNvdXJjZVR5cGVHZW5lcmFsPSJJbWFnZSIvPgo8L3Jlc291cmNlPgo='}, 'relationships': {'data-center': {'data': {'id': 'cdl.ucbmvz', 'type': 'data-centers'}}, 'member': {'data': {'id': 'cdl', 'type': 'members'}}, 'resource-type': {'data': {'id': 'image', 'type': 'resource-types'}}}}, {'id': 'https://doi.org/10.7299/x70r9mkb', 'type': 'works', 'attributes': {'doi': '10.7299/x70r9mkb', 'identifier': 'https://doi.org/10.7299/x70r9mkb', 'url': 'http://arctos.database.museum/media/10001538', 'author': [{'literal': 'Charles D. Holliger'}], 'title': 'King Snake', 'container-title': 'Museum of Vertebrate Zoology', 'description': None, 'resource-type-subtype': None, 'data-center-id': 'cdl.ucbmvz', 'member-id': 'cdl', 'resource-type-id': 'image', 'version': None, 'license': None, 'schema-version': '3', 'results': [], 'related-identifiers': [], 'published': '1915', 'registered': '2013-04-10T03:06:03Z', 'checked': None, 'updated': '2016-06-18T00:16:32Z', 'media': None, 'xml': 'PD94bWwgdmVyc2lvbj0iMS4wIiBlbmNvZGluZz0iVVRGLTgiPz4KPHJlc291cmNlIHhtbG5zPSJodHRwOi8vZGF0YWNpdGUub3JnL3NjaGVtYS9rZXJuZWwtMyIKICB4bWxuczp4c2k9Imh0dHA6Ly93d3cudzMub3JnLzIwMDEvWE1MU2NoZW1hLWluc3RhbmNlIgogIHhzaTpzY2hlbWFMb2NhdGlvbj0iaHR0cDovL2RhdGFjaXRlLm9yZy9zY2hlbWEva2VybmVsLTMKICAgIGh0dHA6Ly9zY2hlbWEuZGF0YWNpdGUub3JnL21ldGEva2VybmVsLTMvbWV0YWRhdGEueHNkIj4KICA8aWRlbnRpZmllciBpZGVudGlmaWVyVHlwZT0iRE9JIj4xMC43Mjk5L1g3MFI5TUtCPC9pZGVudGlmaWVyPgogIDxjcmVhdG9ycz4KICAgIDxjcmVhdG9yPgogICAgICA8Y3JlYXRvck5hbWU+Q2hhcmxlcyBELiBIb2xsaWdlcjwvY3JlYXRvck5hbWU+CiAgICA8L2NyZWF0b3I+CiAgPC9jcmVhdG9ycz4KICA8dGl0bGVzPgogICAgPHRpdGxlPktpbmcgU25ha2U8L3RpdGxlPgogIDwvdGl0bGVzPgogIDxwdWJsaXNoZXI+TXVzZXVtIG9mIFZlcnRlYnJhdGUgWm9vbG9neTwvcHVibGlzaGVyPgogIDxwdWJsaWNhdGlvblllYXI+MTkxNTwvcHVibGljYXRpb25ZZWFyPgogIDxyZXNvdXJjZVR5cGUgcmVzb3VyY2VUeXBlR2VuZXJhbD0iSW1hZ2UiLz4KPC9yZXNvdXJjZT4K'}, 'relationships': {'data-center': {'data': {'id': 'cdl.ucbmvz', 'type': 'data-centers'}}, 'member': {'data': {'id': 'cdl', 'type': 'members'}}, 'resource-type': {'data': {'id': 'image', 'type': 'resource-types'}}}}, {'id': 'https://doi.org/10.7299/x7k35t3r', 'type': 'works', 'attributes': {'doi': '10.7299/x7k35t3r', 'identifier': 'https://doi.org/10.7299/x7k35t3r', 'url': 'http://arctos.database.museum/media/10007381', 'author': [{'literal': 'Robert C. Stebbins'}], 'title': 'Snake trap', 'container-title': 'Museum of Vertebrate Zoology', 'description': None, 'resource-type-subtype': None, 'data-center-id': 'cdl.ucbmvz', 'member-id': 'cdl', 'resource-type-id': 'image', 'version': None, 'license': None, 'schema-version': '3', 'results': [], 'related-identifiers': [], 'published': '1947', 'registered': '2013-04-10T06:55:43Z', 'checked': None, 'updated': '2016-06-18T01:44:04Z', 'media': None, 'xml': 'PD94bWwgdmVyc2lvbj0iMS4wIiBlbmNvZGluZz0iVVRGLTgiPz4KPHJlc291cmNlIHhtbG5zPSJodHRwOi8vZGF0YWNpdGUub3JnL3NjaGVtYS9rZXJuZWwtMyIKICB4bWxuczp4c2k9Imh0dHA6Ly93d3cudzMub3JnLzIwMDEvWE1MU2NoZW1hLWluc3RhbmNlIgogIHhzaTpzY2hlbWFMb2NhdGlvbj0iaHR0cDovL2RhdGFjaXRlLm9yZy9zY2hlbWEva2VybmVsLTMKICAgIGh0dHA6Ly9zY2hlbWEuZGF0YWNpdGUub3JnL21ldGEva2VybmVsLTMvbWV0YWRhdGEueHNkIj4KICA8aWRlbnRpZmllciBpZGVudGlmaWVyVHlwZT0iRE9JIj4xMC43Mjk5L1g3SzM1VDNSPC9pZGVudGlmaWVyPgogIDxjcmVhdG9ycz4KICAgIDxjcmVhdG9yPgogICAgICA8Y3JlYXRvck5hbWU+Um9iZXJ0IEMuIFN0ZWJiaW5zPC9jcmVhdG9yTmFtZT4KICAgIDwvY3JlYXRvcj4KICA8L2NyZWF0b3JzPgogIDx0aXRsZXM+CiAgICA8dGl0bGU+U25ha2UgdHJhcDwvdGl0bGU+CiAgPC90aXRsZXM+CiAgPHB1Ymxpc2hlcj5NdXNldW0gb2YgVmVydGVicmF0ZSBab29sb2d5PC9wdWJsaXNoZXI+CiAgPHB1YmxpY2F0aW9uWWVhcj4xOTQ3PC9wdWJsaWNhdGlvblllYXI+CiAgPHJlc291cmNlVHlwZSByZXNvdXJjZVR5cGVHZW5lcmFsPSJJbWFnZSIvPgo8L3Jlc291cmNlPgo='}, 'relationships': {'data-center': {'data': {'id': 'cdl.ucbmvz', 'type': 'data-centers'}}, 'member': {'data': {'id': 'cdl', 'type': 'members'}}, 'resource-type': {'data': {'id': 'image', 'type': 'resource-types'}}}}]\n"
     ]
    }
   ],
   "source": [
    "print(records[:10]) # just the first 10 for space"
   ]
  },
  {
   "cell_type": "code",
   "execution_count": 49,
   "metadata": {},
   "outputs": [
    {
     "name": "stdout",
     "output_type": "stream",
     "text": [
      "1000\n"
     ]
    }
   ],
   "source": [
    "print(len(records))"
   ]
  },
  {
   "cell_type": "markdown",
   "metadata": {},
   "source": [
    "Now we can loop through these results and start crafting our new data.\n",
    "\n",
    "One way to approach getting started with this is to focus on extracting out what you want first, then playing with how it all appears, and finally assemble the new data structure and add it all in.  We need to first get at the data that we want before we can figure out how we might want to reassemble thing\n",
    "."
   ]
  },
  {
   "cell_type": "code",
   "execution_count": 52,
   "metadata": {},
   "outputs": [],
   "source": [
    "for record in records:\n",
    "    # let's extract all the data out of this dictionary\n",
    "    descripitivecluster = record['attributes']\n",
    "    doi = descripitivecluster['doi']"
   ]
  },
  {
   "cell_type": "markdown",
   "metadata": {},
   "source": [
    "Now we have all our unique ids and the values that we want.  We can quickly spin this into a new structure.  Let's add a dictionary accumulator."
   ]
  },
  {
   "cell_type": "code",
   "execution_count": 53,
   "metadata": {
    "collapsed": true
   },
   "outputs": [],
   "source": [
    "recordsjson = {}\n",
    "\n",
    "for record in records:\n",
    "    # let's extract all the data out of this dictionary\n",
    "    descripitivecluster = record['attributes']\n",
    "    doi = descripitivecluster['doi']\n",
    "    recordsjson[doi] = descripitivecluster"
   ]
  },
  {
   "cell_type": "code",
   "execution_count": 54,
   "metadata": {},
   "outputs": [
    {
     "name": "stdout",
     "output_type": "stream",
     "text": [
      "dict_keys(['10.4225/72/570d1ead85f29', '10.17863/cam.18284', '10.7282/t3gb23fq', '10.7282/t3wq036b', '10.7282/t36d5t6m', '10.7299/x7g15xzk', '10.7299/x78c9tfq', '10.7299/x7kp80bz', '10.7299/x70r9mkb', '10.7299/x7k35t3r', '10.7299/x72v2fk8', '10.7299/x76h4gw8', '10.5061/dryad.868/2', '10.3932/ethz-a-000200296', '10.3932/ethz-a-000207736', '10.3932/ethz-a-000249278', '10.3932/ethz-a-000171364', '10.4225/72/56f55a20c7481', '10.5281/zenodo.846553', '10.5281/zenodo.846552', '10.14456/cmvj.2017.18', '10.5281/zenodo.1089204', '10.5281/zenodo.1089203', '10.5281/zenodo.1082907', '10.5281/zenodo.1082906', '10.4225/72/570a82b93dc7c', '10.6084/m9.figshare.900948.v1', '10.13140/rg.2.1.5165.1685', '10.14457/oer.img.2015.924', '10.5061/dryad.gs7j4.2', '10.5061/dryad.h020k', '10.5061/dryad.4v937', '10.5061/dryad.c36k6', '10.5061/dryad.k6t0s.2', '10.5061/dryad.6ph26', '10.14279/depositonce-5046', '10.21236/ada594656', '10.6084/m9.figshare.3806646.v1', '10.6084/m9.figshare.3806646', '10.15121/1148775', '10.15121/1148776', '10.15121/1254443', '10.15121/1254474', '10.15121/1254475', '10.5061/dryad.gs7j4', '10.5061/dryad.gs7j4/1', '10.5061/dryad.gs7j4.2/1.2', '10.5061/dryad.gs7j4.2/2.2', '10.5061/dryad.gs7j4.2/3.2', '10.5061/dryad.gs7j4.1', '10.5061/dryad.gs7j4.1/1.1', '10.5061/dryad.h020k/1', '10.5061/dryad.4v937/1', '10.5061/dryad.c36k6/1', '10.5061/dryad.c36k6/2', '10.5061/dryad.c36k6/3', '10.5061/dryad.14cr5345/1', '10.5061/dryad.k6t0s', '10.5061/dryad.k6t0s/1', '10.5061/dryad.k6t0s/2', '10.5061/dryad.k6t0s.2/1.2', '10.5061/dryad.k6t0s.2/2.2', '10.5061/dryad.k6t0s.2/3.2', '10.5061/dryad.k6t0s.2/4.2', '10.5061/dryad.k6t0s.2/5.2', '10.5061/dryad.k6t0s.2/6.2', '10.5061/dryad.k6t0s.2/7.2', '10.5061/dryad.k6t0s.2/8.2', '10.5061/dryad.k6t0s.1', '10.5061/dryad.k6t0s.1/1.1', '10.5061/dryad.k6t0s.1/2.1', '10.5061/dryad.6ph26/1', '10.5061/dryad.rc3cp/3', '10.5061/dryad.rc3cp/4', '10.7299/x72n51s2', '10.7299/x7bz65pb', '10.5061/dryad.tv8ph', '10.5061/dryad.1j292', '10.14456/sjst-psu.2017.16', '10.5061/dryad.mg152', '10.5061/dryad.mg152/1', '10.17863/cam.18740', '10.7916/d84f1rnr', '10.6084/m9.figshare.5715175.v1', '10.4225/03/58b774c495bd0', '10.4229/eupvsec20152015-1co.11.6', '10.5281/zenodo.581155', '10.5061/dryad.rp2js/1', '10.5061/dryad.4m402', '10.1285/i15900932v37suppl1p119', '10.5061/dryad.8c30j/1', '10.14288/1.0360963', '10.17613/m60v2h', '10.21236/ada269853', '10.21236/ada232226', '10.21236/ada582230', '10.21236/ad0656531', '10.21236/ad0673731', '10.6084/m9.figshare.c.3837031', '10.6084/m9.figshare.c.3837031.v1', '10.4225/72/598b383f3fdb3', '10.4225/72/598b38eee9d29', '10.4225/72/598b3995dde0b', '10.4225/72/598c837f9345c', '10.4225/72/598c83ac3a399', '10.4225/72/5998619653b58', '10.18429/jacow-cool2015-thyaud02', '10.4225/72/5a562ad20b035', '10.21236/ada463630', '10.21236/ad0692939', '10.13140/rg.2.2.15577.72804', '10.13140/rg.2.2.16671.66724', '10.13140/rg.2.2.24686.72001', '10.13140/rg.2.2.15840.17929', '10.13140/rg.2.2.36705.20328', '10.13140/rg.2.2.25480.72963', '10.13018/bmr19704', '10.25662/d161-k0cy', '10.25662/hrq8-w4jh', '10.25662/bv1y-wkcs', '10.25662/3jkj-4vc5', '10.6084/m9.figshare.c.3606365', '10.6084/m9.figshare.c.3606365.v1', '10.15121/1148774', '10.15121/1148778', '10.15121/1148779', '10.15121/1148780', '10.5061/dryad.tv8ph/1', '10.5061/dryad.tv8ph/2', '10.5061/dryad.1j292/1', '10.5061/dryad.1j292/2', '10.5061/dryad.1j292/3', '10.5061/dryad.1j292/4', '10.5061/dryad.1j292/5', '10.5061/dryad.1j292/6', '10.5061/dryad.rc3cp/1', '10.5061/dryad.rc3cp/2', '10.20381/ruor-6057', '10.5284/1035460', '10.5446/20213', '10.5063/aa/obfs2.406.1', '10.5170/cern-1979-001.239', '10.15121/1261967', '10.15121/1261968', '10.15121/1261969', '10.5281/zenodo.45207', '10.5169/seals-312672', '10.5883/ds-sdbi', '10.5169/seals-145335', '10.7914/sn/xj_2000', '10.7915/cig10p0wx', '10.7299/x7m044sb', '10.7299/x7r78dk4', '10.7299/x70k27zb', '10.7299/x780521x', '10.7299/x7pr7vc0', '10.7299/x77h1j0m', '10.7299/x7qc02w2', '10.7299/x7kk9b6n', '10.7299/x7fn15nt', '10.7299/x7k936zt', '10.7299/x7f18z5h', '10.7299/x7xs5tt5', '10.7299/x73b5zkr', '10.7299/x7qn6677', '10.7299/x7bc3z0w', '10.7299/x79z94cq', '10.7299/x7571bg1', '10.7299/x7j965vw', '10.7299/x7cj8czb', '10.7299/x7j67gcp', '10.7299/x7cf9pkg', '10.7299/x7930spk', '10.7299/x7wd403b', '10.7299/x7vh5ncw', '10.7299/x7rj4j0r', '10.7299/x76m36cw', '10.7299/x7rf5tjk', '10.7299/x71r6q1k', '10.7299/x7833rqf', '10.7299/x7kd1xkv', '10.7299/x7668cwf', '10.5452/ma-cxc1g', '10.5061/dryad.75nv22qj/20', '10.3932/ethz-a-000166261', '10.7490/f1000research.1111117.1', '10.15788/m2mw24', '10.15468/umm7k1', '10.15468/c1klv9', '10.14288/1.0219485', '10.14288/1.0166536', '10.14288/1.0217675', '10.6084/m9.figshare.28668', '10.6084/m9.figshare.705877.v1', '10.6084/m9.figshare.705877', '10.4225/72/56eec4b42e239', '10.4225/72/570a7f3e48a0a', '10.4225/72/576ced9843ce6', '10.4225/72/576ceddedc234', '10.13140/2.1.2662.9769', '10.13140/rg.2.2.25374.13128', '10.13140/rg.2.2.22453.88806', '10.13140/rg.2.1.3884.1841', '10.13140/rg.2.2.15008.58883', '10.13140/2.1.3792.3201', '10.13140/2.1.2104.0325', '10.13140/rg.2.1.1672.4007', '10.13140/rg.2.1.4217.6881', '10.13140/rg.2.1.5055.4323', '10.13140/rg.2.1.1258.0885', '10.13140/rg.2.1.3954.7928', '10.13140/rg.2.1.2637.9280', '10.13140/rg.2.2.36743.09121', '10.13140/rg.2.2.29528.08967', '10.6084/m9.figshare.3553260', '10.6084/m9.figshare.3553260.v1', '10.5061/dryad.n10d7', '10.5061/dryad.h16ss', '10.5061/dryad.rc3cp', '10.21236/ada438852', '10.21236/ada524220', '10.21236/ad0724155', '10.21236/ad0724158', '10.21236/ad0432899', '10.7282/t3fj2m0v', '10.6084/m9.figshare.c.3606365_d1', '10.6084/m9.figshare.c.3606365_d1.v1', '10.13140/rg.2.2.21841.63849', '10.3203/iwf/e-1630', '10.5061/dryad.n10d7/1', '10.5061/dryad.n10d7/2', '10.5061/dryad.h16ss/2', '10.5061/dryad.rd2s3/6', '10.6084/m9.figshare.3527228', '10.6084/m9.figshare.3527228.v1', '10.13128/acta_herpetol-9039', '10.13140/rg.2.1.3796.0561', '10.7284/902784', '10.6084/m9.figshare.5576434.v1', '10.3204/pubdb-2018-00404', '10.1594/pangaea.763176', '10.1594/pangaea.763175', '10.1594/pangaea.763223', '10.1594/pangaea.763224', '10.5524/100389', '10.3929/ethz-a-010025786', '10.5281/zenodo.851027', '10.5281/zenodo.851026', '10.5281/zenodo.233208', '10.5281/zenodo.233211', '10.5281/zenodo.233209', '10.5281/zenodo.233207', '10.5281/zenodo.233214', '10.5281/zenodo.233215', '10.5281/zenodo.233213', '10.5281/zenodo.233210', '10.5281/zenodo.233212', '10.5281/zenodo.285271', '10.5281/zenodo.285272', '10.5281/zenodo.285273', '10.5281/zenodo.285274', '10.5281/zenodo.285275', '10.5281/zenodo.285276', '10.5281/zenodo.276776', '10.5281/zenodo.276777', '10.5281/zenodo.276778', '10.5281/zenodo.276779', '10.5281/zenodo.276780', '10.5281/zenodo.276781', '10.5281/zenodo.276782', '10.5281/zenodo.276775', '10.5451/unibas-006017413', '10.7488/ds/2108', '10.5281/zenodo.1042106', '10.5281/zenodo.1042105', '10.5061/dryad.j22k0', '10.17863/cam.18158', '10.5061/dryad.j22k0/2', '10.14455/tsme.res.2014.229', '10.14456/sustj.2009.7', '10.5281/zenodo.841822', '10.5281/zenodo.841821', '10.5281/zenodo.897694', '10.5281/zenodo.897693', '10.3205/gpras000045', '10.15124/crd42015022021', '10.5061/dryad.cc6r3/1', '10.5061/dryad.db561/2', '10.5061/dryad.48r5h/1', '10.5061/dryad.48r5h/10', '10.5061/dryad.48r5h.2/10.2', '10.5061/dryad.48r5h.1/10.1', '10.7916/d8gb3m1v', '10.7916/d8bk2vbk', '10.7925/drs1.duchas_5141219', '10.13016/m20v89', '10.4225/72/5988910b9ba41', '10.4225/72/5989e7e96b98c', '10.4225/72/598b31a2e2000', '10.18429/jacow-ipac2014-tupro077', '10.5061/dryad.c8mh3', '10.5061/dryad.36sv8', '10.7916/d8zc823q', '10.5061/dryad.63kf4', '10.5061/dryad.jq285', '10.5061/dryad.9bc55', '10.5061/dryad.8979', '10.5061/dryad.3948r', '10.5061/dryad.tg58v', '10.5167/uzh-49853', '10.5167/uzh-53831', '10.5167/uzh-143811', '10.1285/i15900932v37suppl1p93', '10.1285/i15910725v39p35', '10.5061/dryad.t34d3', '10.5061/dryad.bv37v', '10.5167/uzh-124332', '10.15468/pqenh7', '10.15468/zxdl50', '10.15161/oar.it/1448466369.43', '10.7892/boris.21631', '10.17863/cam.18520', '10.21236/ada342677', '10.21236/ada342329', '10.21236/ada228666', '10.21236/ada617003', '10.6084/m9.figshare.c.3615116', '10.6084/m9.figshare.c.3639221_d2', '10.6084/m9.figshare.c.3639221_d5', '10.6084/m9.figshare.c.3639221', '10.6084/m9.figshare.4524527', '10.6084/m9.figshare.4524527.v1', '10.6084/m9.figshare.c.3637766', '10.6084/m9.figshare.c.3759923', '10.6084/m9.figshare.c.3759923.v1', '10.4225/72/5a85a08806363', '10.4225/72/598b380f0c1e6', '10.4225/72/598b39af9900c', '10.4225/72/598b39c9913d5', '10.18429/jacow-ipac2014-tupro057', '10.18429/jacow-napac2016-thpoa16', '10.21411/cbm.a.c55b83c8', '10.6084/m9.figshare.3489977.v1', '10.6084/m9.figshare.3489977', '10.21236/ad0766724', '10.6084/m9.figshare.5576431.v1', '10.6084/m9.figshare.5576437.v1', '10.6084/m9.figshare.5576440.v1', '10.6084/m9.figshare.c.3923218.v1', '10.6084/m9.figshare.c.3923218', '10.13140/rg.2.2.33770.52162', '10.13140/rg.2.2.19234.12482', '10.13140/rg.2.2.22589.56801', '10.13140/rg.2.2.23597.18407', '10.13140/rg.2.2.28134.73288', '10.13140/rg.2.2.35012.73609', '10.13140/rg.2.2.20471.32160', '10.6084/m9.figshare.5765781.v1', '10.6084/m9.figshare.c.3733156.v1', '10.6084/m9.figshare.c.3639221.v1', '10.6084/m9.figshare.c.3637766.v1', '10.6084/m9.figshare.c.3615116.v1', '10.6084/m9.figshare.5644789.v1', '10.6084/m9.figshare.5644945.v1', '10.6084/m9.figshare.c.3639221_d5.v1', '10.6084/m9.figshare.c.3639221_d2.v1', '10.13140/rg.2.1.4837.3200', '10.13140/rg.2.2.18140.69764', '10.13140/rg.2.2.12458.93121', '10.13018/bmr2061', '10.13018/bmr2206', '10.13018/bmr2207', '10.13097/archive-ouverte/unige:84252', '10.13140/rg.2.2.22196.04480', '10.25662/ewh0-9phw', '10.15460/aethiopica.17.1.737', '10.7282/t36m38b3', '10.7282/t3wm1fx7', '10.5281/zenodo.176962', '10.5281/zenodo.176979', '10.5281/zenodo.176980', '10.5061/dryad.75nv22qj/16', '10.5061/dryad.75nv22qj/17', '10.6084/m9.figshare.3550728', '10.6084/m9.figshare.3550728.v1', '10.6084/m9.figshare.3551766', '10.6084/m9.figshare.3551766.v1', '10.6084/m9.figshare.3513896', '10.6084/m9.figshare.3513896.v1', '10.6084/m9.figshare.3515525', '10.6084/m9.figshare.3515525.v1', '10.1594/pangaea.746151', '10.1594/pangaea.746195', '10.6067/xcv8cc1043', '10.6067/xcv80864z8', '10.5281/zenodo.220489', '10.5281/zenodo.220490', '10.5281/zenodo.220491', '10.5281/zenodo.212606', '10.5281/zenodo.199545', '10.5281/zenodo.191355', '10.5281/zenodo.274629', '10.5281/zenodo.44895', '10.5281/zenodo.171194', '10.5281/zenodo.176453', '10.5169/seals-121180', '10.5281/zenodo.180500', '10.5281/zenodo.180501', '10.5281/zenodo.180502', '10.5281/zenodo.180503', '10.5281/zenodo.180504', '10.5281/zenodo.180505', '10.5281/zenodo.180499', '10.13128/acta_herpetol-1885', '10.13128/acta_herpetol-1294', '10.13128/acta_herpetol-2685', '10.13128/acta_herpetol-2950', '10.13128/acta_herpetol-3419', '10.13128/acta_herpetol-8531', '10.7299/x7959frf', '10.7299/x7xw4jvz', '10.7299/x74f1qsc', '10.7299/x7q81d4p', '10.5452/ma-c4zoc', '10.5452/ma-c9dex', '10.5452/ma-avb44', '10.12751/nncn.bc2014.0220', '10.5061/dryad.75nv22qj/18', '10.5061/dryad.75nv22qj/19', '10.5061/dryad.75nv22qj/22', '10.5061/dryad.9bc55/1', '10.15781/t27659f93', '10.15468/ec1tj8', '10.15468/5lswhg', '10.15468/8e5yqi', '10.15468/vd8dps', '10.15468/fcoody', '10.15468/ljqhfi', '10.15468/xlsgqd', '10.15468/6dkqjq', '10.15468/6nsqvk', '10.15468/xql3w7', '10.15468/hcizp7', '10.15468/y8b3gg', '10.15468/nfb3ha', '10.7939/r3pc8w', '10.7939/r3hm2g', '10.13016/m2qd56', '10.15126/smg.25/1.c08', '10.14288/1.0066403', '10.14288/1.0055250', '10.17611/dp/9894934', '10.17611/dp/9991727', '10.17611/dp/10131222', '10.6084/m9.figshare.3985479', '10.6084/m9.figshare.3985479.v1', '10.6084/m9.figshare.3985497.v1', '10.6084/m9.figshare.3985497', '10.6084/m9.figshare.3985503.v1', '10.6084/m9.figshare.3985503', '10.6084/m9.figshare.3985509.v1', '10.6084/m9.figshare.3985509', '10.6084/m9.figshare.3985512.v1', '10.6084/m9.figshare.3985512', '10.6084/m9.figshare.c.3493056.v1', '10.6084/m9.figshare.c.3493056', '10.6084/m9.figshare.831493.v7', '10.6084/m9.figshare.831493.v8', '10.6084/m9.figshare.831493.v9', '10.6084/m9.figshare.831493.v10', '10.6084/m9.figshare.34649', '10.6084/m9.figshare.65083', '10.6084/m9.figshare.34649.v1', '10.6084/m9.figshare.c.2067764', '10.6084/m9.figshare.c.2067764.v1', '10.6084/m9.figshare.705883.v1', '10.6084/m9.figshare.705883.v2', '10.6084/m9.figshare.705890.v1', '10.6084/m9.figshare.705883', '10.6084/m9.figshare.705890', '10.6084/m9.figshare.831493', '10.6084/m9.figshare.1534427', '10.6084/m9.figshare.1242866', '10.6084/m9.figshare.1418235', '10.6084/m9.figshare.c.3733156', '10.6084/m9.figshare.52980', '10.6084/m9.figshare.52981', '10.6084/m9.figshare.52983', '10.6084/m9.figshare.52984', '10.6084/m9.figshare.52985', '10.4225/72/570a8289be16b', '10.4225/72/576cea93c3602', '10.4225/72/576cedc88a837', '10.18122/b21592', '10.6084/m9.figshare.1418235.v1', '10.6084/m9.figshare.1534427.v1', '10.13140/rg.2.2.34600.16646', '10.13140/rg.2.2.12763.57122', '10.13140/rg.2.2.27364.58245', '10.13140/rg.2.2.15607.42407', '10.13140/rg.2.2.33593.36969', '10.13140/rg.2.2.15702.04160', '10.13140/rg.2.1.3903.3847', '10.13140/rg.2.2.23130.13760', '10.13140/rg.2.2.10389.93922', '10.13140/2.1.2726.0802', '10.13140/2.1.2180.5443', '10.13140/2.1.2124.2240', '10.13140/2.1.3013.6004', '10.13140/2.1.4986.6248', '10.13140/2.1.1158.9120', '10.13140/rg.2.1.1224.5607', '10.13140/2.1.1356.6088', '10.13140/2.1.3233.3120', '10.13140/rg.2.1.1266.7762', '10.13140/rg.2.1.4345.1046', '10.13140/rg.2.1.1881.5446', '10.13140/rg.2.1.1523.1843', '10.13140/rg.2.1.3483.8164', '10.13140/rg.2.1.1996.8086', '10.13140/rg.2.1.4685.0969', '10.13140/rg.2.1.5086.0963', '10.13140/rg.2.2.14939.77600', '10.13140/rg.2.2.28252.59526', '10.5066/f7bc3wmg', '10.5061/dryad.sr4rm', '10.5061/dryad.16pg7', '10.21236/ada392669', '10.21236/ada392504', '10.21236/ada435127', '10.21236/ada637121', '10.21236/ada185198', '10.5524/review.100946', '10.5524/review.100947', '10.5524/review.100948', '10.7282/t39s1v7p', '10.5281/zenodo.221049', '10.5281/zenodo.191329', '10.5281/zenodo.191330', '10.5281/zenodo.191331', '10.5281/zenodo.191332', '10.5281/zenodo.191328', '10.5281/zenodo.844790', '10.5281/zenodo.844789', '10.5281/zenodo.844792', '10.5281/zenodo.844791', '10.5281/zenodo.844794', '10.5281/zenodo.844793', '10.5281/zenodo.844796', '10.5281/zenodo.844795', '10.6084/m9.figshare.5715175.v2', '10.25662/bbvv-y61j', '10.5066/f7z31wrb', '10.4230/lipics.fun.2016.11', '10.5069/g98k7718', '10.5069/g9w95737', '10.7283/t5v69gpt', '10.7282/t35x28cz', '10.7282/t3tm79j9', '10.7282/t3vm4bpp', '10.7282/t30c4v50', '10.7282/t37s7n6d', '10.7282/t3rv0n46', '10.7282/t3wm1ct2', '10.7282/t3dj5f2h', '10.7282/t3tq60zm', '10.7282/t3gh9hdm', '10.7282/t3qz29d4', '10.7282/t3vq323d', '10.7282/t30g3jk9', '10.7282/t3hh6jhj', '10.7282/t3jd4w7m', '10.7282/t3p55mxg', '10.7282/t32f7mwz', '10.7282/t34x5764', '10.5281/zenodo.844798', '10.5281/zenodo.844797', '10.5281/zenodo.844800', '10.5281/zenodo.844799', '10.5281/zenodo.844802', '10.5281/zenodo.844801', '10.5281/zenodo.844804', '10.5281/zenodo.844803', '10.5281/zenodo.844806', '10.5281/zenodo.844805', '10.5281/zenodo.245047', '10.5281/zenodo.245048', '10.5281/zenodo.245049', '10.5281/zenodo.245050', '10.5281/zenodo.256799', '10.5281/zenodo.256800', '10.5281/zenodo.256801', '10.3929/ethz-b-000252086', '10.5061/dryad.bs54p', '10.5061/dryad.s0h82', '10.5061/dryad.p70r4', '10.11588/propylaeumdok.00003753', '10.5061/dryad.cs5th', '10.5061/dryad.fd0gb', '10.15468/sxqux2', '10.15468/yozxed', '10.15468/trwtga', '10.15468/wweh86', '10.6084/m9.figshare.c.3615116_d1', '10.6084/m9.figshare.c.3637766_d1', '10.6084/m9.figshare.c.3639221_d1', '10.6084/m9.figshare.c.3639221_d3', '10.6084/m9.figshare.c.3639221_d4', '10.6084/m9.figshare.c.3639221_d6', '10.6084/m9.figshare.c.3639221_d7', '10.6084/m9.figshare.c.3639221_d8', '10.6084/m9.figshare.c.3639221_d9', '10.6084/m9.figshare.5230507', '10.6084/m9.figshare.5230507.v1', '10.6084/m9.figshare.5230528.v1', '10.6084/m9.figshare.c.3832498', '10.6084/m9.figshare.5230528', '10.6084/m9.figshare.c.3832498.v1', '10.6084/m9.figshare.5240692.v1', '10.6084/m9.figshare.5240692', '10.6084/m9.figshare.5240695.v1', '10.6084/m9.figshare.5240695', '10.6084/m9.figshare.c.3832498.v2', '10.21411/cbm.a.673957a9', '10.21236/ad0103189', '10.6084/m9.figshare.c.3697360.v1', '10.6084/m9.figshare.5885506.v1', '10.13140/rg.2.2.32601.01120', '10.13140/rg.2.2.24627.32802', '10.13140/rg.2.2.34628.73607', '10.13140/rg.2.2.28202.93127', '10.6084/m9.figshare.5792358.v1', '10.6084/m9.figshare.5484337', '10.6084/m9.figshare.5484337.v1', '10.6084/m9.figshare.c.3615116_d1.v1', '10.6084/m9.figshare.c.3733156_d1.v1', '10.6084/m9.figshare.c.3665848.v1', '10.6084/m9.figshare.c.3639221_d9.v1', '10.6084/m9.figshare.c.3639221_d8.v1', '10.6084/m9.figshare.c.3639221_d7.v1', '10.6084/m9.figshare.c.3639221_d6.v1', '10.6084/m9.figshare.c.3639221_d4.v1', '10.6084/m9.figshare.c.3639221_d3.v1', '10.6084/m9.figshare.c.3639221_d1.v1', '10.6084/m9.figshare.c.3637766_d1.v1', '10.13140/rg.2.1.1316.8080', '10.25662/7qrg-bv8n', '10.5281/zenodo.188735', '10.5061/dryad.sr4rm/2', '10.5061/dryad.sr4rm/1', '10.5061/dryad.sr4rm/3', '10.5061/dryad.16pg7/1', '10.5061/dryad.36p54/1', '10.20381/ruor-3509', '10.13125/2039-6597/388', '10.13140/2.1.4051.9044', '10.5281/zenodo.176963', '10.5281/zenodo.176967', '10.5281/zenodo.176975', '10.5061/dryad.rd2s3/3', '10.5061/dryad.tg58v/1', '10.1594/pangaea.745363', '10.1594/pangaea.727032', '10.5524/100196', '10.5281/zenodo.222894', '10.5281/zenodo.222895', '10.5281/zenodo.222896', '10.5281/zenodo.222897', '10.5281/zenodo.210599', '10.5281/zenodo.212607', '10.5281/zenodo.212608', '10.5281/zenodo.212609', '10.5281/zenodo.212610', '10.5281/zenodo.199546', '10.5281/zenodo.199547', '10.5281/zenodo.191356', '10.5281/zenodo.241688', '10.5281/zenodo.241689', '10.5281/zenodo.241690', '10.5281/zenodo.241691', '10.5281/zenodo.241692', '10.5281/zenodo.241693', '10.5281/zenodo.241694', '10.5281/zenodo.241695', '10.5281/zenodo.286259', '10.5281/zenodo.286260', '10.5281/zenodo.286261', '10.5281/zenodo.286262', '10.5281/zenodo.286263', '10.5281/zenodo.286264', '10.5281/zenodo.274630', '10.5281/zenodo.274631', '10.5281/zenodo.274632', '10.5281/zenodo.274633', '10.5281/zenodo.256359', '10.5281/zenodo.256360', '10.5281/zenodo.256361', '10.5281/zenodo.256362', '10.5281/zenodo.256363', '10.5281/zenodo.256364', '10.5281/zenodo.256365', '10.5281/zenodo.256366', '10.5281/zenodo.256367', '10.5281/zenodo.256368', '10.5281/zenodo.256369', '10.5281/zenodo.261875', '10.5281/zenodo.261876', '10.5281/zenodo.261877', '10.5281/zenodo.261878', '10.5281/zenodo.261879', '10.5281/zenodo.261880', '10.5281/zenodo.169839', '10.5281/zenodo.171195', '10.5281/zenodo.171196', '10.5281/zenodo.171197', '10.5281/zenodo.172648', '10.5281/zenodo.172649', '10.5281/zenodo.172650', '10.5281/zenodo.172651', '10.5281/zenodo.172652', '10.5281/zenodo.172653', '10.5281/zenodo.172654', '10.5281/zenodo.172647', '10.5281/zenodo.175024', '10.5281/zenodo.175469', '10.5281/zenodo.176454', '10.5281/zenodo.176455', '10.5281/zenodo.176456', '10.5281/zenodo.176457', '10.5281/zenodo.176458', '10.5281/zenodo.176459', '10.5281/zenodo.176460', '10.5281/zenodo.176461', '10.5281/zenodo.176462', '10.5281/zenodo.176463', '10.5281/zenodo.176464', '10.5281/zenodo.56492', '10.5281/zenodo.234336', '10.5281/zenodo.234337', '10.5281/zenodo.234338', '10.5281/zenodo.234339', '10.5281/zenodo.234340', '10.5281/zenodo.234341', '10.5281/zenodo.234342', '10.5281/zenodo.234343', '10.5281/zenodo.234344', '10.5281/zenodo.234345', '10.13128/acta_herpetol-2679', '10.13128/acta_herpetol-3418', '10.13128/acta_herpetol-9338', '10.13128/acta_herpetol-12381', '10.7934/p956', '10.15468/dbtpp2', '10.15468/f0i52b', '10.15468/dyknjw', '10.5452/ma-cn84x', '10.5452/ma-cxase', '10.5452/ma-a4btt', '10.5452/ma-a2iil', '10.3249/1868-1581-2-1-golecki', '10.5061/dryad.k77h4', '10.7490/f1000research.1111617.1', '10.15468/3kqdoq', '10.15468/gnxjfa', '10.15468/kdwykx', '10.15468/9dolfj', '10.15468/js1drw', '10.15468/ewesi4', '10.15468/heqhij', '10.15468/voyfbt', '10.15468/bcf8oh', '10.15468/gsbeb0', '10.15468/5skn3m', '10.15468/7p0dfh', '10.15468/aldaya', '10.15468/dtck39', '10.15468/9xppri', '10.15468/cuzl9h', '10.15468/gf8yuo', '10.6084/m9.figshare.c.3665848', '10.6084/m9.figshare.1632805.v1', '10.6084/m9.figshare.c.2175914', '10.6084/m9.figshare.c.2175914.v1', '10.6084/m9.figshare.c.3697360', '10.6084/m9.figshare.1632805', '10.6084/m9.figshare.1109682', '10.6084/m9.figshare.1236813', '10.6084/m9.figshare.c.3733156_d1', '10.13140/2.1.4973.3128', '10.13140/2.1.2870.6888', '10.13140/2.1.2400.0641', '10.13140/rg.2.1.1843.3125', '10.13140/rg.2.1.1326.5046', '10.13140/rg.2.1.1350.9522', '10.13140/rg.2.2.30775.73121', '10.15488/1133', '10.7925/drs1.duchas_5020359', '10.5281/zenodo.823971', '10.5281/zenodo.823970', '10.5281/zenodo.375617', '10.5281/zenodo.375618', '10.5281/zenodo.592183', '10.5281/zenodo.592434', '10.5281/zenodo.165191', '10.5061/dryad.rp2js/3', '10.5281/zenodo.660307', '10.5281/zenodo.1197416', '10.5281/zenodo.1197415', '10.5061/dryad.fd0gb/1', '10.1594/pangaea.763177', '10.5281/zenodo.221047', '10.5281/zenodo.221048', '10.5281/zenodo.211493', '10.5281/zenodo.211494', '10.5281/zenodo.211495', '10.5281/zenodo.211496', '10.5281/zenodo.211497', '10.5281/zenodo.211498', '10.5281/zenodo.211492', '10.5281/zenodo.827690', '10.5281/zenodo.827689', '10.5281/zenodo.827692', '10.5281/zenodo.827691', '10.5281/zenodo.827694', '10.5281/zenodo.827693', '10.18113/p8ik159687', '10.7299/x7td9vd0', '10.7299/x7ht2mds', '10.7299/x7vt1q62', '10.7299/x7f18wvn', '10.7299/x7t43r61', '10.7299/x7p84948', '10.7299/x7hd7sxb', '10.7299/x7n014r2', '10.7299/x7np23v8', '10.7299/x7v69j21', '10.7299/x7ft8kgx', '10.7299/x7v987j7', '10.7299/x7dr2v14', '10.3932/ethz-a-000094120', '10.3932/ethz-a-000200326', '10.3932/ethz-a-000171334', '10.7890/ethz-a-000465031', '10.15161/oar.it/1448294398.66', '10.6084/m9.figshare.1041210', '10.4225/72/56f0116fd17d8', '10.4225/72/570a814491474', '10.6084/m9.figshare.1041210.v1', '10.13140/rg.2.1.1388.5048', '10.13140/rg.2.2.29406.23361', '10.5281/zenodo.827696', '10.5281/zenodo.827695', '10.5281/zenodo.827698', '10.5281/zenodo.827697', '10.5281/zenodo.827700', '10.5281/zenodo.827699', '10.5281/zenodo.827702', '10.5281/zenodo.827701', '10.5281/zenodo.827704', '10.5281/zenodo.827703', '10.5281/zenodo.827706', '10.5281/zenodo.827705', '10.5281/zenodo.827708', '10.5281/zenodo.827707', '10.5281/zenodo.827710', '10.5281/zenodo.827709', '10.5281/zenodo.827712', '10.5281/zenodo.827711', '10.5281/zenodo.827714', '10.5281/zenodo.827713', '10.5281/zenodo.888719', '10.5281/zenodo.888718', '10.5281/zenodo.888721', '10.5281/zenodo.888720', '10.5281/zenodo.888723', '10.5281/zenodo.572286', '10.5061/dryad.dq40b', '10.5061/dryad.dq40b/1', '10.5061/dryad.r31js91', '10.5061/dryad.r31js91/1', '10.5061/dryad.r31js91/2', '10.5061/dryad.r31js91/3', '10.5061/dryad.r31js91/5', '10.5061/dryad.r31js91/4', '10.5061/dryad.r31js91/6', '10.5281/zenodo.1111651', '10.5281/zenodo.1111650', '10.5061/dryad.3hq89', '10.17863/cam.18527', '10.5066/f7xw4h14', '10.5061/dryad.3hq89/1', '10.5061/dryad.3hq89/2', '10.14456/tjg.2012.12', '10.14455/nrct.res.2012.19', '10.15124/crd42014009700', '10.4225/03/58586963877f9', '10.7925/drs1.duchas_5054163', '10.4225/72/5989e72669331', '10.4225/72/5989e7491f238', '10.4225/72/598b3254a8ad9', '10.4225/72/598b362c4693f', '10.4225/72/598b38dddb941', '10.4225/72/598c85f0eedb0', '10.4225/72/598c887954bba', '10.4225/72/5a562b4ca1b2d', '10.13140/rg.2.2.12658.09924', '10.5287/bodleian2mmv.2', '10.7282/t35t3jwb', '10.7299/x7z60nhm', '10.7299/x7mp52qw', '10.7299/x7df6qr9', '10.7299/x7125s6c', '10.7299/x74m942p', '10.5061/dryad.5p0c3/2', '10.5061/dryad.f5qk7/4', '10.5061/dryad.f5qk7.2/4.2', '10.5061/dryad.f5qk7.1/4.1', '10.5061/dryad.jv463/1', '10.3932/ethz-a-000200350', '10.3932/ethz-a-000903956', '10.3932/ethz-a-000171310', '10.4225/72/56fbf42479d80', '10.4225/72/5705a805bfe81', '10.4225/72/570a7f06b0255', '10.5281/zenodo.1041033', '10.5281/zenodo.1041032', '10.4225/03/589a95c3af3e2', '10.5281/zenodo.258214', '10.15121/1287564', '10.15161/oar.it/1447870294.89', '10.21236/ada491658', '10.21236/ad0684320', '10.4225/72/59888f767d4c6', '10.4225/72/5989e060a8ed7', '10.4225/72/5989e8199697f', '10.4225/72/599861920cef4', '10.21236/ad0632372', '10.13140/rg.2.2.16444.44162', '10.13140/rg.2.2.36577.10089', '10.13140/rg.2.2.15669.37603', '10.13140/rg.2.2.28020.45447', '10.25662/rvwj-nvtp', '10.25662/dk1k-ja65', '10.15121/1154912', '10.5446/20008', '10.7283/t5125qxh', '10.7282/t3cf9phd', '10.5281/zenodo.45218', '10.7299/x7kd1xbq', '10.7299/x7dr2twx', '10.7299/x7h994m5', '10.7299/x7416whm', '10.7299/x7bg2nfn', '10.7299/x72z14z4', '10.7299/x74t6ht1', '10.7299/x7w958n5', '10.7299/x7h41qw1', '10.7299/x78c9vqq', '10.7299/x7w66k7v', '10.7299/x7c828rc', '10.7299/x73r0sc7', '10.7299/x72r3r4h', '10.7299/x7pg1r6g', '10.7299/x79886gm', '10.7299/x7x066gp', '10.7299/x74j0dkm', '10.7299/x7qc02zz', '10.7299/x7kk9b73', '10.7299/x7b27tq2', '10.7299/x7dv1jb3', '10.7299/x7ww7h4z', '10.7299/x7nc60nr', '10.7299/x74f1q59', '10.7299/x7zp45mh', '10.7299/x7668cpr', '10.7299/x7jh3kmn', '10.7299/x71g0kqv', '10.7299/x7wq037z', '10.7299/x7rx9bj4', '10.7299/x79s1qgb', '10.7299/x7rv0n5t', '10.7299/x7rn37b5', '10.7299/x7ft8khc', '10.7299/x7kh0mtx', '10.7299/x72b8xjq', '10.7299/x7k64hkz', '10.7299/x7k35t63', '10.7299/x7x63mgk', '10.7299/x7nk3dm6', '10.7299/x7b27v8n', '10.7490/f1000research.1112128.1', '10.7890/ethz-a-000465079', '10.7890/ethz-a-000464687', '10.7890/ethz-a-000464651', '10.6084/m9.figshare.157334.v1', '10.6084/m9.figshare.157334', '10.6084/m9.figshare.900948', '10.6084/m9.figshare.1277550', '10.18419/opus-2811', '10.4225/72/56eec4a3dd23b'])\n"
     ]
    }
   ],
   "source": [
    "print(recordsjson.keys())"
   ]
  },
  {
   "cell_type": "markdown",
   "metadata": {},
   "source": [
    "Now that we have this dictionary, we can dump it out to file with the `.dump()` function.  This will parse our d data structure into valid json and write it out to our file open for writing.  Note that it will take two arguments."
   ]
  },
  {
   "cell_type": "code",
   "execution_count": 57,
   "metadata": {},
   "outputs": [],
   "source": [
    "with open('doidata.json','w') as fout:\n",
    "    json.dump(recordsjson, fout)"
   ]
  },
  {
   "cell_type": "markdown",
   "metadata": {},
   "source": [
    "One thing that we can play with here is how the output looks. There are several choices.  By default the text gets dumped out as one long line.  This saves some file space, but is really difficult to read through.  We can specify that there is an indent included. We need to specify what we want there. We can provide text if we want a delimiter, or we can use a number to add a certain number of white spaces for indent."
   ]
  },
  {
   "cell_type": "code",
   "execution_count": 58,
   "metadata": {
    "collapsed": true
   },
   "outputs": [],
   "source": [
    "with open('doidata.json','w') as fout:\n",
    "    json.dump(recordsjson, fout, indent = 2)"
   ]
  },
  {
   "cell_type": "markdown",
   "metadata": {},
   "source": [
    "Worth reviewing here are the differences in syntax between passing arguments without a label (and thus by position) versus why we will sometimes need to pass an argument a value by name (like we are doing here with indent"
   ]
  },
  {
   "cell_type": "markdown",
   "metadata": {},
   "source": [
    "## Final thoughts about this sort of data structure\n",
    "\n",
    "With tabular data stored within a relational database, we have the advantage that all values retain their labels (unless you do something silly, which is totally possible).  So when you extract a row it comes with an ID and each cell value retains the column label.  But this is a much more rigid system. You can adapt certain values with set delimiter structure within them, but when you have data with looser structure (such as optional keywords), it get harder to query and process.  Not impossible, but harder.\n",
    "\n",
    "When we consider how we generally (outside of pandas dataframes) in memory, we normally think about having a list of lists.  These sublists contain individual non collection elements (sequences like strings, excluded, but no other lists or dictionaries.) This is our normal conception of two dimensional data.  This has the benefit of being extremely flexible because you would be allowed to have additional levels of data collections.  While you may be restricting yourself to only two dimensions, that's a design choice you are making rather than a limitation of the data structure itself.  What we lose, however, is the context behind that data.  While you may be able to infer the labels and identities of values coming out of a query, these things are not natively transmitted along with the data.  You cannot ask for things by name directly within the extraction syntax of the collection.\n",
    "\n",
    "JSON combines these two strengths into a single structure, thus eliminating these limitations.  Unless you do something silly and purposefully don't encode the context of the data in the struture, it'll be there by name for the asking.  Not only can you have one to many relationships easily and directly, you can also directly ask for things by their names and many times the data coming back is often labeled."
   ]
  },
  {
   "cell_type": "code",
   "execution_count": null,
   "metadata": {
    "collapsed": true
   },
   "outputs": [],
   "source": []
  },
  {
   "cell_type": "markdown",
   "metadata": {
    "collapsed": true
   },
   "source": [
    " \n",
    "\n",
    "\n",
    "\n",
    "\n",
    "\n",
    "\n",
    "\n",
    "\n",
    "## scrapyard\n",
    "\n",
    "Let's look at the idea of a date here for a second.  We normally store these as a string with a standard delimiter.  This meets our needs for being human readable and easily manipulated using core string methods.\n",
    "\n",
    "So in a way, this usage is hacking a one to many relationship with tabular data.  While a singleton data point is being saved, that data point can be easily processed into many sub-values.  This is more formally supported in common database systems via storing a date is a Date data type (of which there are many names, depending on the system).  One data object is being stored, but you can ask many questions about it.  Might it be nicer to store all the elements of a date as separate fields within the date node.  This does add more complication, because you'll need to reconstruct it into a more expected format for output. However, the data has already been split apart.\n",
    "\n",
    "This means that we usually have a design choice here:\n",
    "\n",
    "* you can have data neatly granular but you'll need to do more work to reconstruct it for more traditional outputs\n",
    "* you can have all the data kept together in a nicely formatted structure, but you'll need to add more processing in to break it apart for granular queries\n",
    "\n",
    "There is no one right answer to this question.  You will either be working with a system handed to you, have other design standards dictated to you by your system designers, or you'll need to make a call on where do you want your data fussing to be.  You can choose to fuss with it at processing point for queries or you can fuss with it to make nicely readable reports and output.  Only you will know what you're up for dealing with.  Sometimes the fussy data is so small and unimportant that you rarely have to deal with it.  Other times the value of having some fussy data already split apart for neatly granular storage is incredibly valuable.\n"
   ]
  },
  {
   "cell_type": "code",
   "execution_count": null,
   "metadata": {
    "collapsed": true
   },
   "outputs": [],
   "source": []
  }
 ],
 "metadata": {
  "kernelspec": {
   "display_name": "Python 3",
   "language": "python",
   "name": "python3"
  },
  "language_info": {
   "codemirror_mode": {
    "name": "ipython",
    "version": 3
   },
   "file_extension": ".py",
   "mimetype": "text/x-python",
   "name": "python",
   "nbconvert_exporter": "python",
   "pygments_lexer": "ipython3",
   "version": "3.6.1"
  }
 },
 "nbformat": 4,
 "nbformat_minor": 2
}
